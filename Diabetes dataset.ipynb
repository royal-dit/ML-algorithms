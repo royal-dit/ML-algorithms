{
 "cells": [
  {
   "cell_type": "markdown",
   "id": "a5d3a019",
   "metadata": {},
   "source": [
    "# Dataset training using classification"
   ]
  },
  {
   "cell_type": "code",
   "execution_count": 44,
   "id": "79de019a",
   "metadata": {},
   "outputs": [],
   "source": [
    "import numpy as np\n",
    "import pandas as pd \n",
    "from sklearn.svm import SVC\n",
    "from sklearn.metrics import accuracy_score\n",
    "from sklearn.model_selection import train_test_split"
   ]
  },
  {
   "cell_type": "code",
   "execution_count": 46,
   "id": "e0cc8eca",
   "metadata": {},
   "outputs": [],
   "source": [
    "import tensorflow as tf\n",
    "import matplotlib.pyplot as plt\n",
    "from sklearn.model_selection import train_test_split\n",
    "from sklearn.metrics import confusion_matrix,classification_report\n",
    "\n",
    "\n",
    "%matplotlib inline\n"
   ]
  },
  {
   "cell_type": "markdown",
   "id": "7cb10732",
   "metadata": {},
   "source": [
    "# step 2 :  process data"
   ]
  },
  {
   "cell_type": "code",
   "execution_count": 27,
   "id": "27819525",
   "metadata": {},
   "outputs": [
    {
     "data": {
      "text/plain": [
       "Index(['Pregnancies', 'Glucose', 'BloodPressure', 'SkinThickness', 'Insulin',\n",
       "       'BMI', 'DiabetesPedigreeFunction', 'Age', 'Outcome'],\n",
       "      dtype='object')"
      ]
     },
     "execution_count": 27,
     "metadata": {},
     "output_type": "execute_result"
    }
   ],
   "source": [
    "df = pd.read_csv(\"diabetes.csv\")\n",
    "df.columns\n"
   ]
  },
  {
   "cell_type": "code",
   "execution_count": 13,
   "id": "a11b8740",
   "metadata": {},
   "outputs": [
    {
     "data": {
      "text/html": [
       "<div>\n",
       "<style scoped>\n",
       "    .dataframe tbody tr th:only-of-type {\n",
       "        vertical-align: middle;\n",
       "    }\n",
       "\n",
       "    .dataframe tbody tr th {\n",
       "        vertical-align: top;\n",
       "    }\n",
       "\n",
       "    .dataframe thead th {\n",
       "        text-align: right;\n",
       "    }\n",
       "</style>\n",
       "<table border=\"1\" class=\"dataframe\">\n",
       "  <thead>\n",
       "    <tr style=\"text-align: right;\">\n",
       "      <th></th>\n",
       "      <th>Pregnancies</th>\n",
       "      <th>Glucose</th>\n",
       "      <th>BloodPressure</th>\n",
       "      <th>SkinThickness</th>\n",
       "      <th>Insulin</th>\n",
       "      <th>BMI</th>\n",
       "      <th>DiabetesPedigreeFunction</th>\n",
       "      <th>Age</th>\n",
       "      <th>Outcome</th>\n",
       "    </tr>\n",
       "  </thead>\n",
       "  <tbody>\n",
       "    <tr>\n",
       "      <th>0</th>\n",
       "      <td>6</td>\n",
       "      <td>148</td>\n",
       "      <td>72</td>\n",
       "      <td>35</td>\n",
       "      <td>0</td>\n",
       "      <td>33.6</td>\n",
       "      <td>0.627</td>\n",
       "      <td>50</td>\n",
       "      <td>1</td>\n",
       "    </tr>\n",
       "    <tr>\n",
       "      <th>1</th>\n",
       "      <td>1</td>\n",
       "      <td>85</td>\n",
       "      <td>66</td>\n",
       "      <td>29</td>\n",
       "      <td>0</td>\n",
       "      <td>26.6</td>\n",
       "      <td>0.351</td>\n",
       "      <td>31</td>\n",
       "      <td>0</td>\n",
       "    </tr>\n",
       "    <tr>\n",
       "      <th>2</th>\n",
       "      <td>8</td>\n",
       "      <td>183</td>\n",
       "      <td>64</td>\n",
       "      <td>0</td>\n",
       "      <td>0</td>\n",
       "      <td>23.3</td>\n",
       "      <td>0.672</td>\n",
       "      <td>32</td>\n",
       "      <td>1</td>\n",
       "    </tr>\n",
       "    <tr>\n",
       "      <th>3</th>\n",
       "      <td>1</td>\n",
       "      <td>89</td>\n",
       "      <td>66</td>\n",
       "      <td>23</td>\n",
       "      <td>94</td>\n",
       "      <td>28.1</td>\n",
       "      <td>0.167</td>\n",
       "      <td>21</td>\n",
       "      <td>0</td>\n",
       "    </tr>\n",
       "  </tbody>\n",
       "</table>\n",
       "</div>"
      ],
      "text/plain": [
       "   Pregnancies  Glucose  BloodPressure  SkinThickness  Insulin   BMI  \\\n",
       "0            6      148             72             35        0  33.6   \n",
       "1            1       85             66             29        0  26.6   \n",
       "2            8      183             64              0        0  23.3   \n",
       "3            1       89             66             23       94  28.1   \n",
       "\n",
       "   DiabetesPedigreeFunction  Age  Outcome  \n",
       "0                     0.627   50        1  \n",
       "1                     0.351   31        0  \n",
       "2                     0.672   32        1  \n",
       "3                     0.167   21        0  "
      ]
     },
     "execution_count": 13,
     "metadata": {},
     "output_type": "execute_result"
    }
   ],
   "source": [
    "df = pd.read_csv(\"diabetes.csv\",header=0)\n",
    "df.head(4)"
   ]
  },
  {
   "cell_type": "code",
   "execution_count": 28,
   "id": "25c16e28",
   "metadata": {
    "scrolled": true
   },
   "outputs": [
    {
     "data": {
      "text/html": [
       "<div>\n",
       "<style scoped>\n",
       "    .dataframe tbody tr th:only-of-type {\n",
       "        vertical-align: middle;\n",
       "    }\n",
       "\n",
       "    .dataframe tbody tr th {\n",
       "        vertical-align: top;\n",
       "    }\n",
       "\n",
       "    .dataframe thead th {\n",
       "        text-align: right;\n",
       "    }\n",
       "</style>\n",
       "<table border=\"1\" class=\"dataframe\">\n",
       "  <thead>\n",
       "    <tr style=\"text-align: right;\">\n",
       "      <th></th>\n",
       "      <th>Pregnancies</th>\n",
       "      <th>Glucose</th>\n",
       "      <th>BloodPressure</th>\n",
       "      <th>SkinThickness</th>\n",
       "      <th>Insulin</th>\n",
       "      <th>BMI</th>\n",
       "      <th>DiabetesPedigreeFunction</th>\n",
       "      <th>Age</th>\n",
       "    </tr>\n",
       "  </thead>\n",
       "  <tbody>\n",
       "    <tr>\n",
       "      <th>0</th>\n",
       "      <td>6</td>\n",
       "      <td>148</td>\n",
       "      <td>72</td>\n",
       "      <td>35</td>\n",
       "      <td>0</td>\n",
       "      <td>33.6</td>\n",
       "      <td>0.627</td>\n",
       "      <td>50</td>\n",
       "    </tr>\n",
       "    <tr>\n",
       "      <th>1</th>\n",
       "      <td>1</td>\n",
       "      <td>85</td>\n",
       "      <td>66</td>\n",
       "      <td>29</td>\n",
       "      <td>0</td>\n",
       "      <td>26.6</td>\n",
       "      <td>0.351</td>\n",
       "      <td>31</td>\n",
       "    </tr>\n",
       "  </tbody>\n",
       "</table>\n",
       "</div>"
      ],
      "text/plain": [
       "   Pregnancies  Glucose  BloodPressure  SkinThickness  Insulin   BMI  \\\n",
       "0            6      148             72             35        0  33.6   \n",
       "1            1       85             66             29        0  26.6   \n",
       "\n",
       "   DiabetesPedigreeFunction  Age  \n",
       "0                     0.627   50  \n",
       "1                     0.351   31  "
      ]
     },
     "execution_count": 28,
     "metadata": {},
     "output_type": "execute_result"
    }
   ],
   "source": [
    "col_norm =['Pregnancies', 'Glucose', 'BloodPressure', 'SkinThickness', 'Insulin',\n",
    "       'BMI', 'DiabetesPedigreeFunction', 'Age']\n",
    "df_norm =df[col_norm]\n",
    "df_norm.head(2)"
   ]
  },
  {
   "cell_type": "markdown",
   "id": "b49eb2ee",
   "metadata": {},
   "source": [
    "# using costom lamba function for normalization"
   ]
  },
  {
   "cell_type": "code",
   "execution_count": 32,
   "id": "8e59e220",
   "metadata": {},
   "outputs": [],
   "source": [
    "df1_norm=df[col_norm].apply(lambda x:((x-x.min())/(x.max()-x.min())))"
   ]
  },
  {
   "cell_type": "code",
   "execution_count": 33,
   "id": "5e5e9026",
   "metadata": {},
   "outputs": [
    {
     "data": {
      "text/html": [
       "<div>\n",
       "<style scoped>\n",
       "    .dataframe tbody tr th:only-of-type {\n",
       "        vertical-align: middle;\n",
       "    }\n",
       "\n",
       "    .dataframe tbody tr th {\n",
       "        vertical-align: top;\n",
       "    }\n",
       "\n",
       "    .dataframe thead th {\n",
       "        text-align: right;\n",
       "    }\n",
       "</style>\n",
       "<table border=\"1\" class=\"dataframe\">\n",
       "  <thead>\n",
       "    <tr style=\"text-align: right;\">\n",
       "      <th></th>\n",
       "      <th>Pregnancies</th>\n",
       "      <th>Glucose</th>\n",
       "      <th>BloodPressure</th>\n",
       "      <th>SkinThickness</th>\n",
       "      <th>Insulin</th>\n",
       "      <th>BMI</th>\n",
       "      <th>DiabetesPedigreeFunction</th>\n",
       "      <th>Age</th>\n",
       "    </tr>\n",
       "  </thead>\n",
       "  <tbody>\n",
       "    <tr>\n",
       "      <th>0</th>\n",
       "      <td>0.352941</td>\n",
       "      <td>0.743719</td>\n",
       "      <td>0.590164</td>\n",
       "      <td>0.353535</td>\n",
       "      <td>0.0</td>\n",
       "      <td>0.500745</td>\n",
       "      <td>0.234415</td>\n",
       "      <td>0.483333</td>\n",
       "    </tr>\n",
       "    <tr>\n",
       "      <th>1</th>\n",
       "      <td>0.058824</td>\n",
       "      <td>0.427136</td>\n",
       "      <td>0.540984</td>\n",
       "      <td>0.292929</td>\n",
       "      <td>0.0</td>\n",
       "      <td>0.396423</td>\n",
       "      <td>0.116567</td>\n",
       "      <td>0.166667</td>\n",
       "    </tr>\n",
       "  </tbody>\n",
       "</table>\n",
       "</div>"
      ],
      "text/plain": [
       "   Pregnancies   Glucose  BloodPressure  SkinThickness  Insulin       BMI  \\\n",
       "0     0.352941  0.743719       0.590164       0.353535      0.0  0.500745   \n",
       "1     0.058824  0.427136       0.540984       0.292929      0.0  0.396423   \n",
       "\n",
       "   DiabetesPedigreeFunction       Age  \n",
       "0                  0.234415  0.483333  \n",
       "1                  0.116567  0.166667  "
      ]
     },
     "execution_count": 33,
     "metadata": {},
     "output_type": "execute_result"
    }
   ],
   "source": [
    "df1_norm.head(2)"
   ]
  },
  {
   "cell_type": "code",
   "execution_count": 34,
   "id": "57628692",
   "metadata": {},
   "outputs": [],
   "source": [
    "feat_Pregnancies = tf.feature_column.numeric_column(\"Pregnancies\")\n",
    "feat_Glucose = tf.feature_column.numeric_column(\"Glucose\")\n",
    "feat_BloodPressure = tf.feature_column.numeric_column(\"BloodPressure\")\n",
    "feat_SkinThickness = tf.feature_column.numeric_column(\"SkinThickness\")\n",
    "feat_Insulin = tf.feature_column.numeric_column(\"Insulin\")\n",
    "feat_BMI = tf.feature_column.numeric_column(\"BMI\")\n",
    "feat_DiabetesPedigreeFunction = tf.feature_column.numeric_column(\"DiabetesPedigreeFunction\")"
   ]
  },
  {
   "cell_type": "code",
   "execution_count": 36,
   "id": "2b907304",
   "metadata": {},
   "outputs": [],
   "source": [
    "feature_column=[feat_Pregnancies,feat_Glucose,feat_BloodPressure,feat_SkinThickness,feat_Insulin,feat_BMI,feat_DiabetesPedigreeFunction]\n"
   ]
  },
  {
   "cell_type": "code",
   "execution_count": 37,
   "id": "0507d94a",
   "metadata": {},
   "outputs": [
    {
     "data": {
      "text/html": [
       "<div>\n",
       "<style scoped>\n",
       "    .dataframe tbody tr th:only-of-type {\n",
       "        vertical-align: middle;\n",
       "    }\n",
       "\n",
       "    .dataframe tbody tr th {\n",
       "        vertical-align: top;\n",
       "    }\n",
       "\n",
       "    .dataframe thead th {\n",
       "        text-align: right;\n",
       "    }\n",
       "</style>\n",
       "<table border=\"1\" class=\"dataframe\">\n",
       "  <thead>\n",
       "    <tr style=\"text-align: right;\">\n",
       "      <th></th>\n",
       "      <th>Pregnancies</th>\n",
       "      <th>Glucose</th>\n",
       "      <th>BloodPressure</th>\n",
       "      <th>SkinThickness</th>\n",
       "      <th>Insulin</th>\n",
       "      <th>BMI</th>\n",
       "      <th>DiabetesPedigreeFunction</th>\n",
       "      <th>Age</th>\n",
       "    </tr>\n",
       "  </thead>\n",
       "  <tbody>\n",
       "    <tr>\n",
       "      <th>0</th>\n",
       "      <td>0.352941</td>\n",
       "      <td>0.743719</td>\n",
       "      <td>0.590164</td>\n",
       "      <td>0.353535</td>\n",
       "      <td>0.0</td>\n",
       "      <td>0.500745</td>\n",
       "      <td>0.234415</td>\n",
       "      <td>0.483333</td>\n",
       "    </tr>\n",
       "    <tr>\n",
       "      <th>1</th>\n",
       "      <td>0.058824</td>\n",
       "      <td>0.427136</td>\n",
       "      <td>0.540984</td>\n",
       "      <td>0.292929</td>\n",
       "      <td>0.0</td>\n",
       "      <td>0.396423</td>\n",
       "      <td>0.116567</td>\n",
       "      <td>0.166667</td>\n",
       "    </tr>\n",
       "  </tbody>\n",
       "</table>\n",
       "</div>"
      ],
      "text/plain": [
       "   Pregnancies   Glucose  BloodPressure  SkinThickness  Insulin       BMI  \\\n",
       "0     0.352941  0.743719       0.590164       0.353535      0.0  0.500745   \n",
       "1     0.058824  0.427136       0.540984       0.292929      0.0  0.396423   \n",
       "\n",
       "   DiabetesPedigreeFunction       Age  \n",
       "0                  0.234415  0.483333  \n",
       "1                  0.116567  0.166667  "
      ]
     },
     "execution_count": 37,
     "metadata": {},
     "output_type": "execute_result"
    }
   ],
   "source": [
    "X_Data = df1_norm\n",
    "X_Data.head(2)\n"
   ]
  },
  {
   "cell_type": "code",
   "execution_count": 38,
   "id": "b162e0f7",
   "metadata": {},
   "outputs": [
    {
     "data": {
      "text/plain": [
       "0    1\n",
       "1    0\n",
       "2    1\n",
       "Name: Outcome, dtype: int64"
      ]
     },
     "execution_count": 38,
     "metadata": {},
     "output_type": "execute_result"
    }
   ],
   "source": [
    "Y_Data = df[\"Outcome\"]\n",
    "Y_Data.head(3)"
   ]
  },
  {
   "cell_type": "code",
   "execution_count": null,
   "id": "d4cf8ea7",
   "metadata": {},
   "outputs": [],
   "source": []
  },
  {
   "cell_type": "markdown",
   "id": "e415b5c2",
   "metadata": {},
   "source": [
    "# train_test_split"
   ]
  },
  {
   "cell_type": "code",
   "execution_count": 39,
   "id": "7566cb3b",
   "metadata": {},
   "outputs": [],
   "source": [
    "X_Train,X_Test,Y_Train,Y_Test = train_test_split(X_Data,Y_Data,test_size=0.3,random_state=101)\n"
   ]
  },
  {
   "cell_type": "markdown",
   "id": "e54c80bf",
   "metadata": {},
   "source": [
    "# input function estimator model\n"
   ]
  },
  {
   "cell_type": "code",
   "execution_count": 47,
   "id": "bc5f5c48",
   "metadata": {},
   "outputs": [],
   "source": [
    "input_func = tf.compat.v1.estimator.inputs.pandas_input_fn(x=X_Train\n",
    "                                                          ,y=Y_Train,\n",
    "                                                         batch_size=10,\n",
    "                                                          num_epochs=100,\n",
    "                                                          shuffle=True)\n",
    "\n"
   ]
  },
  {
   "cell_type": "code",
   "execution_count": 48,
   "id": "88300583",
   "metadata": {},
   "outputs": [],
   "source": [
    "test_func = tf.compat.v1.estimator.inputs.pandas_input_fn(x=X_Test\n",
    "                                                          ,y=Y_Test,\n",
    "                                                         batch_size=10,\n",
    "                                                          num_epochs=1,\n",
    "                                                          shuffle=False)\n",
    "\n"
   ]
  },
  {
   "cell_type": "markdown",
   "id": "de8a46f1",
   "metadata": {},
   "source": [
    "# linear classifier\n"
   ]
  },
  {
   "cell_type": "code",
   "execution_count": 50,
   "id": "544a756d",
   "metadata": {},
   "outputs": [
    {
     "name": "stdout",
     "output_type": "stream",
     "text": [
      "INFO:tensorflow:Using default config.\n",
      "WARNING:tensorflow:Using temporary folder as model directory: C:\\temp\\tmpwf344b2q\n",
      "INFO:tensorflow:Using config: {'_model_dir': 'C:\\\\temp\\\\tmpwf344b2q', '_tf_random_seed': None, '_save_summary_steps': 100, '_save_checkpoints_steps': None, '_save_checkpoints_secs': 600, '_session_config': allow_soft_placement: true\n",
      "graph_options {\n",
      "  rewrite_options {\n",
      "    meta_optimizer_iterations: ONE\n",
      "  }\n",
      "}\n",
      ", '_keep_checkpoint_max': 5, '_keep_checkpoint_every_n_hours': 10000, '_log_step_count_steps': 100, '_train_distribute': None, '_device_fn': None, '_protocol': None, '_eval_distribute': None, '_experimental_distribute': None, '_experimental_max_worker_delay_secs': None, '_session_creation_timeout_secs': 7200, '_checkpoint_save_graph_def': True, '_service': None, '_cluster_spec': ClusterSpec({}), '_task_type': 'worker', '_task_id': 0, '_global_id_in_cluster': 0, '_master': '', '_evaluation_master': '', '_is_chief': True, '_num_ps_replicas': 0, '_num_worker_replicas': 1}\n"
     ]
    }
   ],
   "source": [
    "model = tf.estimator.LinearClassifier(feature_columns=feature_column,n_classes=2)\n"
   ]
  },
  {
   "cell_type": "code",
   "execution_count": 64,
   "id": "57b29155",
   "metadata": {},
   "outputs": [
    {
     "name": "stdout",
     "output_type": "stream",
     "text": [
      "INFO:tensorflow:Using default config.\n",
      "WARNING:tensorflow:Using temporary folder as model directory: C:\\temp\\tmpbvgn40y1\n",
      "INFO:tensorflow:Using config: {'_model_dir': 'C:\\\\temp\\\\tmpbvgn40y1', '_tf_random_seed': None, '_save_summary_steps': 100, '_save_checkpoints_steps': None, '_save_checkpoints_secs': 600, '_session_config': allow_soft_placement: true\n",
      "graph_options {\n",
      "  rewrite_options {\n",
      "    meta_optimizer_iterations: ONE\n",
      "  }\n",
      "}\n",
      ", '_keep_checkpoint_max': 5, '_keep_checkpoint_every_n_hours': 10000, '_log_step_count_steps': 100, '_train_distribute': None, '_device_fn': None, '_protocol': None, '_eval_distribute': None, '_experimental_distribute': None, '_experimental_max_worker_delay_secs': None, '_session_creation_timeout_secs': 7200, '_checkpoint_save_graph_def': True, '_service': None, '_cluster_spec': ClusterSpec({}), '_task_type': 'worker', '_task_id': 0, '_global_id_in_cluster': 0, '_master': '', '_evaluation_master': '', '_is_chief': True, '_num_ps_replicas': 0, '_num_worker_replicas': 1}\n"
     ]
    }
   ],
   "source": [
    "mod =tf.compat.v1.estimator.LinearClassifier(feature_columns=feature_column,\n",
    "                                    optimizer=tf.compat.v1.train.FtrlOptimizer(\n",
    "      \n",
    "                                        learning_rate=0.123,l1_regularization_strength=0.001))\n"
   ]
  },
  {
   "cell_type": "code",
   "execution_count": 65,
   "id": "621342b7",
   "metadata": {},
   "outputs": [
    {
     "name": "stdout",
     "output_type": "stream",
     "text": [
      "INFO:tensorflow:Calling model_fn.\n",
      "INFO:tensorflow:Done calling model_fn.\n",
      "INFO:tensorflow:Create CheckpointSaverHook.\n",
      "INFO:tensorflow:Graph was finalized.\n",
      "INFO:tensorflow:Running local_init_op.\n",
      "INFO:tensorflow:Done running local_init_op.\n",
      "INFO:tensorflow:Calling checkpoint listeners before saving checkpoint 0...\n",
      "INFO:tensorflow:Saving checkpoints for 0 into C:\\temp\\tmpbvgn40y1\\model.ckpt.\n",
      "INFO:tensorflow:C:\\temp\\tmpbvgn40y1\\model.ckpt-0.data-00000-of-00001\n",
      "INFO:tensorflow:0\n",
      "INFO:tensorflow:C:\\temp\\tmpbvgn40y1\\model.ckpt-0.index\n",
      "INFO:tensorflow:0\n",
      "INFO:tensorflow:C:\\temp\\tmpbvgn40y1\\model.ckpt-0.meta\n",
      "INFO:tensorflow:200\n",
      "INFO:tensorflow:Calling checkpoint listeners after saving checkpoint 0...\n",
      "INFO:tensorflow:loss = 6.931472, step = 0\n",
      "INFO:tensorflow:global_step/sec: 104.202\n",
      "INFO:tensorflow:loss = 6.1041965, step = 100 (0.983 sec)\n",
      "INFO:tensorflow:global_step/sec: 153.583\n",
      "INFO:tensorflow:loss = 6.51575, step = 200 (0.624 sec)\n",
      "INFO:tensorflow:global_step/sec: 161.744\n",
      "INFO:tensorflow:loss = 4.5692267, step = 300 (0.626 sec)\n",
      "INFO:tensorflow:global_step/sec: 151.304\n",
      "INFO:tensorflow:loss = 6.319016, step = 400 (0.665 sec)\n",
      "INFO:tensorflow:global_step/sec: 155.067\n",
      "INFO:tensorflow:loss = 5.922532, step = 500 (0.633 sec)\n",
      "INFO:tensorflow:global_step/sec: 157.256\n",
      "INFO:tensorflow:loss = 5.123483, step = 600 (0.636 sec)\n",
      "INFO:tensorflow:global_step/sec: 156.744\n",
      "INFO:tensorflow:loss = 7.0449123, step = 700 (0.638 sec)\n",
      "INFO:tensorflow:global_step/sec: 155.519\n",
      "INFO:tensorflow:loss = 6.5647955, step = 800 (0.652 sec)\n",
      "INFO:tensorflow:global_step/sec: 153.585\n",
      "INFO:tensorflow:loss = 4.454062, step = 900 (0.645 sec)\n",
      "INFO:tensorflow:global_step/sec: 157.457\n",
      "INFO:tensorflow:loss = 5.61445, step = 1000 (0.633 sec)\n",
      "INFO:tensorflow:global_step/sec: 155.405\n",
      "INFO:tensorflow:loss = 6.247586, step = 1100 (0.656 sec)\n",
      "INFO:tensorflow:global_step/sec: 161.072\n",
      "INFO:tensorflow:loss = 5.875286, step = 1200 (0.616 sec)\n",
      "INFO:tensorflow:global_step/sec: 160.463\n",
      "INFO:tensorflow:loss = 3.8858762, step = 1300 (0.624 sec)\n",
      "INFO:tensorflow:global_step/sec: 167.59\n",
      "INFO:tensorflow:loss = 7.6557965, step = 1400 (0.597 sec)\n",
      "INFO:tensorflow:global_step/sec: 164.186\n",
      "INFO:tensorflow:loss = 6.803396, step = 1500 (0.609 sec)\n",
      "INFO:tensorflow:global_step/sec: 174.237\n",
      "INFO:tensorflow:loss = 6.744269, step = 1600 (0.573 sec)\n",
      "INFO:tensorflow:global_step/sec: 172.415\n",
      "INFO:tensorflow:loss = 6.287458, step = 1700 (0.573 sec)\n",
      "INFO:tensorflow:global_step/sec: 164.625\n",
      "INFO:tensorflow:loss = 5.4045663, step = 1800 (0.615 sec)\n",
      "INFO:tensorflow:global_step/sec: 167.054\n",
      "INFO:tensorflow:loss = 5.92578, step = 1900 (0.603 sec)\n",
      "INFO:tensorflow:global_step/sec: 173.852\n",
      "INFO:tensorflow:loss = 6.057163, step = 2000 (0.571 sec)\n",
      "INFO:tensorflow:global_step/sec: 176.882\n",
      "INFO:tensorflow:loss = 4.7028966, step = 2100 (0.573 sec)\n",
      "INFO:tensorflow:global_step/sec: 154.576\n",
      "INFO:tensorflow:loss = 5.028215, step = 2200 (0.640 sec)\n",
      "INFO:tensorflow:global_step/sec: 175.036\n",
      "INFO:tensorflow:loss = 4.874517, step = 2300 (0.571 sec)\n",
      "INFO:tensorflow:global_step/sec: 175.084\n",
      "INFO:tensorflow:loss = 7.6496644, step = 2400 (0.563 sec)\n",
      "INFO:tensorflow:global_step/sec: 166.698\n",
      "INFO:tensorflow:loss = 6.29789, step = 2500 (0.608 sec)\n",
      "INFO:tensorflow:global_step/sec: 160.293\n",
      "INFO:tensorflow:loss = 3.9438047, step = 2600 (0.616 sec)\n",
      "INFO:tensorflow:global_step/sec: 129.979\n",
      "INFO:tensorflow:loss = 5.344161, step = 2700 (0.769 sec)\n",
      "INFO:tensorflow:global_step/sec: 147.475\n",
      "INFO:tensorflow:loss = 6.3869424, step = 2800 (0.683 sec)\n",
      "INFO:tensorflow:global_step/sec: 158.457\n",
      "INFO:tensorflow:loss = 3.7474532, step = 2900 (0.631 sec)\n",
      "INFO:tensorflow:global_step/sec: 158.586\n",
      "INFO:tensorflow:loss = 8.40168, step = 3000 (0.628 sec)\n",
      "INFO:tensorflow:global_step/sec: 151.968\n",
      "INFO:tensorflow:loss = 8.727779, step = 3100 (0.663 sec)\n",
      "INFO:tensorflow:global_step/sec: 163.98\n",
      "INFO:tensorflow:loss = 6.536356, step = 3200 (0.606 sec)\n",
      "INFO:tensorflow:global_step/sec: 158.837\n",
      "INFO:tensorflow:loss = 5.174743, step = 3300 (0.637 sec)\n",
      "INFO:tensorflow:global_step/sec: 158.351\n",
      "INFO:tensorflow:loss = 7.598333, step = 3400 (0.626 sec)\n",
      "INFO:tensorflow:global_step/sec: 157.88\n",
      "INFO:tensorflow:loss = 5.9854584, step = 3500 (0.634 sec)\n",
      "INFO:tensorflow:global_step/sec: 159.552\n",
      "INFO:tensorflow:loss = 7.9021225, step = 3600 (0.634 sec)\n",
      "INFO:tensorflow:global_step/sec: 159.085\n",
      "INFO:tensorflow:loss = 7.0043364, step = 3700 (0.627 sec)\n",
      "INFO:tensorflow:global_step/sec: 152.402\n",
      "INFO:tensorflow:loss = 5.7921824, step = 3800 (0.654 sec)\n",
      "INFO:tensorflow:global_step/sec: 129.069\n",
      "INFO:tensorflow:loss = 6.280469, step = 3900 (0.777 sec)\n",
      "INFO:tensorflow:global_step/sec: 148.601\n",
      "INFO:tensorflow:loss = 5.118372, step = 4000 (0.670 sec)\n",
      "INFO:tensorflow:global_step/sec: 146.677\n",
      "INFO:tensorflow:loss = 6.4944324, step = 4100 (0.678 sec)\n",
      "INFO:tensorflow:global_step/sec: 154.882\n",
      "INFO:tensorflow:loss = 4.1080337, step = 4200 (0.643 sec)\n",
      "INFO:tensorflow:global_step/sec: 157.804\n",
      "INFO:tensorflow:loss = 4.3444586, step = 4300 (0.639 sec)\n",
      "INFO:tensorflow:global_step/sec: 159.966\n",
      "INFO:tensorflow:loss = 6.379694, step = 4400 (0.624 sec)\n",
      "INFO:tensorflow:global_step/sec: 161.368\n",
      "INFO:tensorflow:loss = 5.0139527, step = 4500 (0.617 sec)\n",
      "INFO:tensorflow:global_step/sec: 160.04\n",
      "INFO:tensorflow:loss = 7.144567, step = 4600 (0.627 sec)\n",
      "INFO:tensorflow:global_step/sec: 165.266\n",
      "INFO:tensorflow:loss = 5.1360526, step = 4700 (0.607 sec)\n",
      "INFO:tensorflow:global_step/sec: 134.523\n",
      "INFO:tensorflow:loss = 5.7687297, step = 4800 (0.736 sec)\n",
      "INFO:tensorflow:global_step/sec: 140.25\n",
      "INFO:tensorflow:loss = 5.938862, step = 4900 (0.717 sec)\n",
      "INFO:tensorflow:Calling checkpoint listeners before saving checkpoint 5000...\n",
      "INFO:tensorflow:Saving checkpoints for 5000 into C:\\temp\\tmpbvgn40y1\\model.ckpt.\n",
      "INFO:tensorflow:C:\\temp\\tmpbvgn40y1\\model.ckpt-5000.data-00000-of-00001\n",
      "INFO:tensorflow:0\n",
      "INFO:tensorflow:C:\\temp\\tmpbvgn40y1\\model.ckpt-5000.index\n",
      "INFO:tensorflow:0\n",
      "INFO:tensorflow:C:\\temp\\tmpbvgn40y1\\model.ckpt-5000.meta\n",
      "INFO:tensorflow:200\n",
      "INFO:tensorflow:Calling checkpoint listeners after saving checkpoint 5000...\n",
      "INFO:tensorflow:Loss for final step: 8.363752.\n"
     ]
    },
    {
     "data": {
      "text/plain": [
       "<tensorflow_estimator.python.estimator.canned.linear.LinearClassifier at 0x24e595bd720>"
      ]
     },
     "execution_count": 65,
     "metadata": {},
     "output_type": "execute_result"
    }
   ],
   "source": [
    "mod.train(input_fn=input_func,steps=5000)"
   ]
  },
  {
   "cell_type": "code",
   "execution_count": 66,
   "id": "d082b945",
   "metadata": {},
   "outputs": [],
   "source": [
    "eval_input_func = tf.compat.v1.estimator.inputs.pandas_input_fn(x=X_Test\n",
    "                                                          ,y=Y_Test,\n",
    "                                                         batch_size=40,\n",
    "                                                          num_epochs=1,\n",
    "                                                          shuffle=False)\n"
   ]
  },
  {
   "cell_type": "code",
   "execution_count": 68,
   "id": "b3348228",
   "metadata": {},
   "outputs": [
    {
     "name": "stdout",
     "output_type": "stream",
     "text": [
      "INFO:tensorflow:Calling model_fn.\n",
      "WARNING:tensorflow:From C:\\Users\\Dell\\AppData\\Local\\Programs\\Python\\Python310\\lib\\site-packages\\tensorflow_estimator\\python\\estimator\\canned\\head.py:635: auc (from tensorflow.python.ops.metrics_impl) is deprecated and will be removed in a future version.\n",
      "Instructions for updating:\n",
      "The value of AUC returned by this may race with the update so this is deprecated. Please use tf.keras.metrics.AUC instead.\n",
      "WARNING:tensorflow:Trapezoidal rule is known to produce incorrect PR-AUCs; please switch to \"careful_interpolation\" instead.\n",
      "WARNING:tensorflow:Trapezoidal rule is known to produce incorrect PR-AUCs; please switch to \"careful_interpolation\" instead.\n",
      "INFO:tensorflow:Done calling model_fn.\n",
      "INFO:tensorflow:Starting evaluation at 2022-09-02T00:24:53\n",
      "INFO:tensorflow:Graph was finalized.\n",
      "INFO:tensorflow:Restoring parameters from C:\\temp\\tmpbvgn40y1\\model.ckpt-5000\n",
      "INFO:tensorflow:Running local_init_op.\n",
      "INFO:tensorflow:Done running local_init_op.\n",
      "INFO:tensorflow:Inference Time : 1.67975s\n",
      "INFO:tensorflow:Finished evaluation at 2022-09-02-00:24:55\n",
      "INFO:tensorflow:Saving dict for global step 5000: accuracy = 0.76623374, accuracy_baseline = 0.64935064, auc = 0.80716056, auc_precision_recall = 0.6759051, average_loss = 0.54183567, global_step = 5000, label/mean = 0.35064936, loss = 20.860672, precision = 0.78723407, prediction/mean = 0.36636057, recall = 0.45679012\n",
      "INFO:tensorflow:Saving 'checkpoint_path' summary for global step 5000: C:\\temp\\tmpbvgn40y1\\model.ckpt-5000\n"
     ]
    }
   ],
   "source": [
    "results=mod.evaluate(eval_input_func)"
   ]
  },
  {
   "cell_type": "code",
   "execution_count": 69,
   "id": "381e99eb",
   "metadata": {},
   "outputs": [
    {
     "data": {
      "text/plain": [
       "0.76623374"
      ]
     },
     "execution_count": 69,
     "metadata": {},
     "output_type": "execute_result"
    }
   ],
   "source": [
    "results[\"accuracy\"]"
   ]
  },
  {
   "cell_type": "code",
   "execution_count": null,
   "id": "e8445842",
   "metadata": {},
   "outputs": [],
   "source": []
  }
 ],
 "metadata": {
  "kernelspec": {
   "display_name": "Python 3 (ipykernel)",
   "language": "python",
   "name": "python3"
  },
  "language_info": {
   "codemirror_mode": {
    "name": "ipython",
    "version": 3
   },
   "file_extension": ".py",
   "mimetype": "text/x-python",
   "name": "python",
   "nbconvert_exporter": "python",
   "pygments_lexer": "ipython3",
   "version": "3.10.4"
  },
  "varInspector": {
   "cols": {
    "lenName": 16,
    "lenType": 16,
    "lenVar": 40
   },
   "kernels_config": {
    "python": {
     "delete_cmd_postfix": "",
     "delete_cmd_prefix": "del ",
     "library": "var_list.py",
     "varRefreshCmd": "print(var_dic_list())"
    },
    "r": {
     "delete_cmd_postfix": ") ",
     "delete_cmd_prefix": "rm(",
     "library": "var_list.r",
     "varRefreshCmd": "cat(var_dic_list()) "
    }
   },
   "types_to_exclude": [
    "module",
    "function",
    "builtin_function_or_method",
    "instance",
    "_Feature"
   ],
   "window_display": false
  }
 },
 "nbformat": 4,
 "nbformat_minor": 5
}
