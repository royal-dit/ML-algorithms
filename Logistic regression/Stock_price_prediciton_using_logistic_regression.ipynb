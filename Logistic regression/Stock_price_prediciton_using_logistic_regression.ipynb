{
  "nbformat": 4,
  "nbformat_minor": 0,
  "metadata": {
    "colab": {
      "provenance": [],
      "authorship_tag": "ABX9TyOv99YK/MRbq0rOUCwKktRh",
      "include_colab_link": true
    },
    "kernelspec": {
      "name": "python3",
      "display_name": "Python 3"
    },
    "language_info": {
      "name": "python"
    }
  },
  "cells": [
    {
      "cell_type": "markdown",
      "metadata": {
        "id": "view-in-github",
        "colab_type": "text"
      },
      "source": [
        "<a href=\"https://colab.research.google.com/github/royal-dit/ML-algorithms/blob/main/Logistic%20regression/Stock_price_prediciton_using_logistic_regression.ipynb\" target=\"_parent\"><img src=\"https://colab.research.google.com/assets/colab-badge.svg\" alt=\"Open In Colab\"/></a>"
      ]
    },
    {
      "cell_type": "code",
      "execution_count": null,
      "metadata": {
        "id": "F4DDXE_E0mPd"
      },
      "outputs": [],
      "source": [
        "!pip install yfinance\n"
      ]
    },
    {
      "cell_type": "code",
      "source": [
        "import pandas as pd\n",
        "import yfinance as yf\n",
        "import statsmodels.api as sm"
      ],
      "metadata": {
        "id": "J4fkv9wh0u7W"
      },
      "execution_count": null,
      "outputs": []
    },
    {
      "cell_type": "code",
      "source": [
        "data = yf.download(\"^GSPC\",start = '2001-01-03',end ='2022-11-01')"
      ],
      "metadata": {
        "colab": {
          "base_uri": "https://localhost:8080/"
        },
        "id": "QUndr5Rkf5MM",
        "outputId": "1940e77e-a21e-4bda-e2fa-4c20092ea280"
      },
      "execution_count": null,
      "outputs": [
        {
          "output_type": "stream",
          "name": "stdout",
          "text": [
            "\r[*********************100%***********************]  1 of 1 completed\n"
          ]
        }
      ]
    },
    {
      "cell_type": "code",
      "source": [
        "data.head(5)"
      ],
      "metadata": {
        "colab": {
          "base_uri": "https://localhost:8080/",
          "height": 368
        },
        "id": "sl87y-algIvx",
        "outputId": "3816aa0f-4ca4-45a2-f123-a3bc80137a99"
      },
      "execution_count": null,
      "outputs": [
        {
          "output_type": "execute_result",
          "data": {
            "text/plain": [
              "                   Open         High          Low        Close    Adj Close  \\\n",
              "Date                                                                          \n",
              "2001-01-03  1283.270020  1347.760010  1274.619995  1347.560059  1347.560059   \n",
              "2001-01-04  1347.560059  1350.239990  1329.140015  1333.339966  1333.339966   \n",
              "2001-01-05  1333.339966  1334.770020  1294.949951  1298.349976  1298.349976   \n",
              "2001-01-08  1298.349976  1298.349976  1276.290039  1295.859985  1295.859985   \n",
              "2001-01-09  1295.859985  1311.719971  1295.140015  1300.800049  1300.800049   \n",
              "\n",
              "                Volume  \n",
              "Date                    \n",
              "2001-01-03  1880700000  \n",
              "2001-01-04  2131000000  \n",
              "2001-01-05  1430800000  \n",
              "2001-01-08  1115500000  \n",
              "2001-01-09  1191300000  "
            ],
            "text/html": [
              "\n",
              "  <div id=\"df-f4c2e0f3-15d9-4caf-8422-fcaecb0c10a5\">\n",
              "    <div class=\"colab-df-container\">\n",
              "      <div>\n",
              "<style scoped>\n",
              "    .dataframe tbody tr th:only-of-type {\n",
              "        vertical-align: middle;\n",
              "    }\n",
              "\n",
              "    .dataframe tbody tr th {\n",
              "        vertical-align: top;\n",
              "    }\n",
              "\n",
              "    .dataframe thead th {\n",
              "        text-align: right;\n",
              "    }\n",
              "</style>\n",
              "<table border=\"1\" class=\"dataframe\">\n",
              "  <thead>\n",
              "    <tr style=\"text-align: right;\">\n",
              "      <th></th>\n",
              "      <th>Open</th>\n",
              "      <th>High</th>\n",
              "      <th>Low</th>\n",
              "      <th>Close</th>\n",
              "      <th>Adj Close</th>\n",
              "      <th>Volume</th>\n",
              "    </tr>\n",
              "    <tr>\n",
              "      <th>Date</th>\n",
              "      <th></th>\n",
              "      <th></th>\n",
              "      <th></th>\n",
              "      <th></th>\n",
              "      <th></th>\n",
              "      <th></th>\n",
              "    </tr>\n",
              "  </thead>\n",
              "  <tbody>\n",
              "    <tr>\n",
              "      <th>2001-01-03</th>\n",
              "      <td>1283.270020</td>\n",
              "      <td>1347.760010</td>\n",
              "      <td>1274.619995</td>\n",
              "      <td>1347.560059</td>\n",
              "      <td>1347.560059</td>\n",
              "      <td>1880700000</td>\n",
              "    </tr>\n",
              "    <tr>\n",
              "      <th>2001-01-04</th>\n",
              "      <td>1347.560059</td>\n",
              "      <td>1350.239990</td>\n",
              "      <td>1329.140015</td>\n",
              "      <td>1333.339966</td>\n",
              "      <td>1333.339966</td>\n",
              "      <td>2131000000</td>\n",
              "    </tr>\n",
              "    <tr>\n",
              "      <th>2001-01-05</th>\n",
              "      <td>1333.339966</td>\n",
              "      <td>1334.770020</td>\n",
              "      <td>1294.949951</td>\n",
              "      <td>1298.349976</td>\n",
              "      <td>1298.349976</td>\n",
              "      <td>1430800000</td>\n",
              "    </tr>\n",
              "    <tr>\n",
              "      <th>2001-01-08</th>\n",
              "      <td>1298.349976</td>\n",
              "      <td>1298.349976</td>\n",
              "      <td>1276.290039</td>\n",
              "      <td>1295.859985</td>\n",
              "      <td>1295.859985</td>\n",
              "      <td>1115500000</td>\n",
              "    </tr>\n",
              "    <tr>\n",
              "      <th>2001-01-09</th>\n",
              "      <td>1295.859985</td>\n",
              "      <td>1311.719971</td>\n",
              "      <td>1295.140015</td>\n",
              "      <td>1300.800049</td>\n",
              "      <td>1300.800049</td>\n",
              "      <td>1191300000</td>\n",
              "    </tr>\n",
              "  </tbody>\n",
              "</table>\n",
              "</div>\n",
              "      <button class=\"colab-df-convert\" onclick=\"convertToInteractive('df-f4c2e0f3-15d9-4caf-8422-fcaecb0c10a5')\"\n",
              "              title=\"Convert this dataframe to an interactive table.\"\n",
              "              style=\"display:none;\">\n",
              "        \n",
              "  <svg xmlns=\"http://www.w3.org/2000/svg\" height=\"24px\"viewBox=\"0 0 24 24\"\n",
              "       width=\"24px\">\n",
              "    <path d=\"M0 0h24v24H0V0z\" fill=\"none\"/>\n",
              "    <path d=\"M18.56 5.44l.94 2.06.94-2.06 2.06-.94-2.06-.94-.94-2.06-.94 2.06-2.06.94zm-11 1L8.5 8.5l.94-2.06 2.06-.94-2.06-.94L8.5 2.5l-.94 2.06-2.06.94zm10 10l.94 2.06.94-2.06 2.06-.94-2.06-.94-.94-2.06-.94 2.06-2.06.94z\"/><path d=\"M17.41 7.96l-1.37-1.37c-.4-.4-.92-.59-1.43-.59-.52 0-1.04.2-1.43.59L10.3 9.45l-7.72 7.72c-.78.78-.78 2.05 0 2.83L4 21.41c.39.39.9.59 1.41.59.51 0 1.02-.2 1.41-.59l7.78-7.78 2.81-2.81c.8-.78.8-2.07 0-2.86zM5.41 20L4 18.59l7.72-7.72 1.47 1.35L5.41 20z\"/>\n",
              "  </svg>\n",
              "      </button>\n",
              "      \n",
              "  <style>\n",
              "    .colab-df-container {\n",
              "      display:flex;\n",
              "      flex-wrap:wrap;\n",
              "      gap: 12px;\n",
              "    }\n",
              "\n",
              "    .colab-df-convert {\n",
              "      background-color: #E8F0FE;\n",
              "      border: none;\n",
              "      border-radius: 50%;\n",
              "      cursor: pointer;\n",
              "      display: none;\n",
              "      fill: #1967D2;\n",
              "      height: 32px;\n",
              "      padding: 0 0 0 0;\n",
              "      width: 32px;\n",
              "    }\n",
              "\n",
              "    .colab-df-convert:hover {\n",
              "      background-color: #E2EBFA;\n",
              "      box-shadow: 0px 1px 2px rgba(60, 64, 67, 0.3), 0px 1px 3px 1px rgba(60, 64, 67, 0.15);\n",
              "      fill: #174EA6;\n",
              "    }\n",
              "\n",
              "    [theme=dark] .colab-df-convert {\n",
              "      background-color: #3B4455;\n",
              "      fill: #D2E3FC;\n",
              "    }\n",
              "\n",
              "    [theme=dark] .colab-df-convert:hover {\n",
              "      background-color: #434B5C;\n",
              "      box-shadow: 0px 1px 3px 1px rgba(0, 0, 0, 0.15);\n",
              "      filter: drop-shadow(0px 1px 2px rgba(0, 0, 0, 0.3));\n",
              "      fill: #FFFFFF;\n",
              "    }\n",
              "  </style>\n",
              "\n",
              "      <script>\n",
              "        const buttonEl =\n",
              "          document.querySelector('#df-f4c2e0f3-15d9-4caf-8422-fcaecb0c10a5 button.colab-df-convert');\n",
              "        buttonEl.style.display =\n",
              "          google.colab.kernel.accessAllowed ? 'block' : 'none';\n",
              "\n",
              "        async function convertToInteractive(key) {\n",
              "          const element = document.querySelector('#df-f4c2e0f3-15d9-4caf-8422-fcaecb0c10a5');\n",
              "          const dataTable =\n",
              "            await google.colab.kernel.invokeFunction('convertToInteractive',\n",
              "                                                     [key], {});\n",
              "          if (!dataTable) return;\n",
              "\n",
              "          const docLinkHtml = 'Like what you see? Visit the ' +\n",
              "            '<a target=\"_blank\" href=https://colab.research.google.com/notebooks/data_table.ipynb>data table notebook</a>'\n",
              "            + ' to learn more about interactive tables.';\n",
              "          element.innerHTML = '';\n",
              "          dataTable['output_type'] = 'display_data';\n",
              "          await google.colab.output.renderOutput(dataTable, element);\n",
              "          const docLink = document.createElement('div');\n",
              "          docLink.innerHTML = docLinkHtml;\n",
              "          element.appendChild(docLink);\n",
              "        }\n",
              "      </script>\n",
              "    </div>\n",
              "  </div>\n",
              "  "
            ]
          },
          "metadata": {},
          "execution_count": 6
        }
      ]
    },
    {
      "cell_type": "code",
      "source": [
        "df = data[\"Adj Close\"].pct_change()*100"
      ],
      "metadata": {
        "id": "nfCOfHQSgMIn"
      },
      "execution_count": null,
      "outputs": []
    },
    {
      "cell_type": "code",
      "source": [
        "df = df.rename(\"Today\")\n"
      ],
      "metadata": {
        "id": "epCvIahxgcJy"
      },
      "execution_count": null,
      "outputs": []
    },
    {
      "cell_type": "code",
      "source": [
        "df = df.reset_index()"
      ],
      "metadata": {
        "id": "b7F-Kh9QgdLE"
      },
      "execution_count": null,
      "outputs": []
    },
    {
      "cell_type": "code",
      "source": [],
      "metadata": {
        "colab": {
          "base_uri": "https://localhost:8080/",
          "height": 424
        },
        "id": "mxAgfbQrgsmM",
        "outputId": "dd46c227-40bf-4a83-9c87-8741e8b1e4b2"
      },
      "execution_count": null,
      "outputs": [
        {
          "output_type": "execute_result",
          "data": {
            "text/plain": [
              "           Date     Today\n",
              "0    2001-01-03       NaN\n",
              "1    2001-01-04 -1.055247\n",
              "2    2001-01-05 -2.624236\n",
              "3    2001-01-08 -0.191781\n",
              "4    2001-01-09  0.381219\n",
              "...         ...       ...\n",
              "5487 2022-10-25  1.626665\n",
              "5488 2022-10-26 -0.738772\n",
              "5489 2022-10-27 -0.608261\n",
              "5490 2022-10-28  2.462638\n",
              "5491 2022-10-31 -0.745440\n",
              "\n",
              "[5492 rows x 2 columns]"
            ],
            "text/html": [
              "\n",
              "  <div id=\"df-3710c48b-fd42-404b-a8db-296ca1646286\">\n",
              "    <div class=\"colab-df-container\">\n",
              "      <div>\n",
              "<style scoped>\n",
              "    .dataframe tbody tr th:only-of-type {\n",
              "        vertical-align: middle;\n",
              "    }\n",
              "\n",
              "    .dataframe tbody tr th {\n",
              "        vertical-align: top;\n",
              "    }\n",
              "\n",
              "    .dataframe thead th {\n",
              "        text-align: right;\n",
              "    }\n",
              "</style>\n",
              "<table border=\"1\" class=\"dataframe\">\n",
              "  <thead>\n",
              "    <tr style=\"text-align: right;\">\n",
              "      <th></th>\n",
              "      <th>Date</th>\n",
              "      <th>Today</th>\n",
              "    </tr>\n",
              "  </thead>\n",
              "  <tbody>\n",
              "    <tr>\n",
              "      <th>0</th>\n",
              "      <td>2001-01-03</td>\n",
              "      <td>NaN</td>\n",
              "    </tr>\n",
              "    <tr>\n",
              "      <th>1</th>\n",
              "      <td>2001-01-04</td>\n",
              "      <td>-1.055247</td>\n",
              "    </tr>\n",
              "    <tr>\n",
              "      <th>2</th>\n",
              "      <td>2001-01-05</td>\n",
              "      <td>-2.624236</td>\n",
              "    </tr>\n",
              "    <tr>\n",
              "      <th>3</th>\n",
              "      <td>2001-01-08</td>\n",
              "      <td>-0.191781</td>\n",
              "    </tr>\n",
              "    <tr>\n",
              "      <th>4</th>\n",
              "      <td>2001-01-09</td>\n",
              "      <td>0.381219</td>\n",
              "    </tr>\n",
              "    <tr>\n",
              "      <th>...</th>\n",
              "      <td>...</td>\n",
              "      <td>...</td>\n",
              "    </tr>\n",
              "    <tr>\n",
              "      <th>5487</th>\n",
              "      <td>2022-10-25</td>\n",
              "      <td>1.626665</td>\n",
              "    </tr>\n",
              "    <tr>\n",
              "      <th>5488</th>\n",
              "      <td>2022-10-26</td>\n",
              "      <td>-0.738772</td>\n",
              "    </tr>\n",
              "    <tr>\n",
              "      <th>5489</th>\n",
              "      <td>2022-10-27</td>\n",
              "      <td>-0.608261</td>\n",
              "    </tr>\n",
              "    <tr>\n",
              "      <th>5490</th>\n",
              "      <td>2022-10-28</td>\n",
              "      <td>2.462638</td>\n",
              "    </tr>\n",
              "    <tr>\n",
              "      <th>5491</th>\n",
              "      <td>2022-10-31</td>\n",
              "      <td>-0.745440</td>\n",
              "    </tr>\n",
              "  </tbody>\n",
              "</table>\n",
              "<p>5492 rows × 2 columns</p>\n",
              "</div>\n",
              "      <button class=\"colab-df-convert\" onclick=\"convertToInteractive('df-3710c48b-fd42-404b-a8db-296ca1646286')\"\n",
              "              title=\"Convert this dataframe to an interactive table.\"\n",
              "              style=\"display:none;\">\n",
              "        \n",
              "  <svg xmlns=\"http://www.w3.org/2000/svg\" height=\"24px\"viewBox=\"0 0 24 24\"\n",
              "       width=\"24px\">\n",
              "    <path d=\"M0 0h24v24H0V0z\" fill=\"none\"/>\n",
              "    <path d=\"M18.56 5.44l.94 2.06.94-2.06 2.06-.94-2.06-.94-.94-2.06-.94 2.06-2.06.94zm-11 1L8.5 8.5l.94-2.06 2.06-.94-2.06-.94L8.5 2.5l-.94 2.06-2.06.94zm10 10l.94 2.06.94-2.06 2.06-.94-2.06-.94-.94-2.06-.94 2.06-2.06.94z\"/><path d=\"M17.41 7.96l-1.37-1.37c-.4-.4-.92-.59-1.43-.59-.52 0-1.04.2-1.43.59L10.3 9.45l-7.72 7.72c-.78.78-.78 2.05 0 2.83L4 21.41c.39.39.9.59 1.41.59.51 0 1.02-.2 1.41-.59l7.78-7.78 2.81-2.81c.8-.78.8-2.07 0-2.86zM5.41 20L4 18.59l7.72-7.72 1.47 1.35L5.41 20z\"/>\n",
              "  </svg>\n",
              "      </button>\n",
              "      \n",
              "  <style>\n",
              "    .colab-df-container {\n",
              "      display:flex;\n",
              "      flex-wrap:wrap;\n",
              "      gap: 12px;\n",
              "    }\n",
              "\n",
              "    .colab-df-convert {\n",
              "      background-color: #E8F0FE;\n",
              "      border: none;\n",
              "      border-radius: 50%;\n",
              "      cursor: pointer;\n",
              "      display: none;\n",
              "      fill: #1967D2;\n",
              "      height: 32px;\n",
              "      padding: 0 0 0 0;\n",
              "      width: 32px;\n",
              "    }\n",
              "\n",
              "    .colab-df-convert:hover {\n",
              "      background-color: #E2EBFA;\n",
              "      box-shadow: 0px 1px 2px rgba(60, 64, 67, 0.3), 0px 1px 3px 1px rgba(60, 64, 67, 0.15);\n",
              "      fill: #174EA6;\n",
              "    }\n",
              "\n",
              "    [theme=dark] .colab-df-convert {\n",
              "      background-color: #3B4455;\n",
              "      fill: #D2E3FC;\n",
              "    }\n",
              "\n",
              "    [theme=dark] .colab-df-convert:hover {\n",
              "      background-color: #434B5C;\n",
              "      box-shadow: 0px 1px 3px 1px rgba(0, 0, 0, 0.15);\n",
              "      filter: drop-shadow(0px 1px 2px rgba(0, 0, 0, 0.3));\n",
              "      fill: #FFFFFF;\n",
              "    }\n",
              "  </style>\n",
              "\n",
              "      <script>\n",
              "        const buttonEl =\n",
              "          document.querySelector('#df-3710c48b-fd42-404b-a8db-296ca1646286 button.colab-df-convert');\n",
              "        buttonEl.style.display =\n",
              "          google.colab.kernel.accessAllowed ? 'block' : 'none';\n",
              "\n",
              "        async function convertToInteractive(key) {\n",
              "          const element = document.querySelector('#df-3710c48b-fd42-404b-a8db-296ca1646286');\n",
              "          const dataTable =\n",
              "            await google.colab.kernel.invokeFunction('convertToInteractive',\n",
              "                                                     [key], {});\n",
              "          if (!dataTable) return;\n",
              "\n",
              "          const docLinkHtml = 'Like what you see? Visit the ' +\n",
              "            '<a target=\"_blank\" href=https://colab.research.google.com/notebooks/data_table.ipynb>data table notebook</a>'\n",
              "            + ' to learn more about interactive tables.';\n",
              "          element.innerHTML = '';\n",
              "          dataTable['output_type'] = 'display_data';\n",
              "          await google.colab.output.renderOutput(dataTable, element);\n",
              "          const docLink = document.createElement('div');\n",
              "          docLink.innerHTML = docLinkHtml;\n",
              "          element.appendChild(docLink);\n",
              "        }\n",
              "      </script>\n",
              "    </div>\n",
              "  </div>\n",
              "  "
            ]
          },
          "metadata": {},
          "execution_count": 13
        }
      ]
    },
    {
      "cell_type": "code",
      "source": [
        "for i in range(1,6):\n",
        "  df[\"Lag\"+str(i)] = df['Today'].shift(i)"
      ],
      "metadata": {
        "id": "J_KlzOaLgtu_"
      },
      "execution_count": null,
      "outputs": []
    },
    {
      "cell_type": "code",
      "source": [
        "df[\"Volume\"] = data.Volume.shift(1).values/100_000_000"
      ],
      "metadata": {
        "id": "XHry0wpUhDEb"
      },
      "execution_count": null,
      "outputs": []
    },
    {
      "cell_type": "code",
      "source": [
        "df = df.dropna()"
      ],
      "metadata": {
        "id": "7_VgTWTihER8"
      },
      "execution_count": null,
      "outputs": []
    },
    {
      "cell_type": "code",
      "source": [
        "df.head(2)"
      ],
      "metadata": {
        "colab": {
          "base_uri": "https://localhost:8080/",
          "height": 156
        },
        "id": "MGCysIS0hbzF",
        "outputId": "1b32c6ef-5317-4344-aa50-a01e34e3cce2"
      },
      "execution_count": null,
      "outputs": [
        {
          "output_type": "execute_result",
          "data": {
            "text/plain": [
              "        Date     Today      Lag1      Lag2      Lag3      Lag4      Lag5  \\\n",
              "6 2001-01-11  1.031770  0.958639  0.381219 -0.191781 -2.624236 -1.055247   \n",
              "7 2001-01-12 -0.623287  1.031770  0.958639  0.381219 -0.191781 -2.624236   \n",
              "\n",
              "   Volume  \n",
              "6  12.965  \n",
              "7  14.112  "
            ],
            "text/html": [
              "\n",
              "  <div id=\"df-d961c224-b90c-4036-8224-b296bdf1a3b7\">\n",
              "    <div class=\"colab-df-container\">\n",
              "      <div>\n",
              "<style scoped>\n",
              "    .dataframe tbody tr th:only-of-type {\n",
              "        vertical-align: middle;\n",
              "    }\n",
              "\n",
              "    .dataframe tbody tr th {\n",
              "        vertical-align: top;\n",
              "    }\n",
              "\n",
              "    .dataframe thead th {\n",
              "        text-align: right;\n",
              "    }\n",
              "</style>\n",
              "<table border=\"1\" class=\"dataframe\">\n",
              "  <thead>\n",
              "    <tr style=\"text-align: right;\">\n",
              "      <th></th>\n",
              "      <th>Date</th>\n",
              "      <th>Today</th>\n",
              "      <th>Lag1</th>\n",
              "      <th>Lag2</th>\n",
              "      <th>Lag3</th>\n",
              "      <th>Lag4</th>\n",
              "      <th>Lag5</th>\n",
              "      <th>Volume</th>\n",
              "    </tr>\n",
              "  </thead>\n",
              "  <tbody>\n",
              "    <tr>\n",
              "      <th>6</th>\n",
              "      <td>2001-01-11</td>\n",
              "      <td>1.031770</td>\n",
              "      <td>0.958639</td>\n",
              "      <td>0.381219</td>\n",
              "      <td>-0.191781</td>\n",
              "      <td>-2.624236</td>\n",
              "      <td>-1.055247</td>\n",
              "      <td>12.965</td>\n",
              "    </tr>\n",
              "    <tr>\n",
              "      <th>7</th>\n",
              "      <td>2001-01-12</td>\n",
              "      <td>-0.623287</td>\n",
              "      <td>1.031770</td>\n",
              "      <td>0.958639</td>\n",
              "      <td>0.381219</td>\n",
              "      <td>-0.191781</td>\n",
              "      <td>-2.624236</td>\n",
              "      <td>14.112</td>\n",
              "    </tr>\n",
              "  </tbody>\n",
              "</table>\n",
              "</div>\n",
              "      <button class=\"colab-df-convert\" onclick=\"convertToInteractive('df-d961c224-b90c-4036-8224-b296bdf1a3b7')\"\n",
              "              title=\"Convert this dataframe to an interactive table.\"\n",
              "              style=\"display:none;\">\n",
              "        \n",
              "  <svg xmlns=\"http://www.w3.org/2000/svg\" height=\"24px\"viewBox=\"0 0 24 24\"\n",
              "       width=\"24px\">\n",
              "    <path d=\"M0 0h24v24H0V0z\" fill=\"none\"/>\n",
              "    <path d=\"M18.56 5.44l.94 2.06.94-2.06 2.06-.94-2.06-.94-.94-2.06-.94 2.06-2.06.94zm-11 1L8.5 8.5l.94-2.06 2.06-.94-2.06-.94L8.5 2.5l-.94 2.06-2.06.94zm10 10l.94 2.06.94-2.06 2.06-.94-2.06-.94-.94-2.06-.94 2.06-2.06.94z\"/><path d=\"M17.41 7.96l-1.37-1.37c-.4-.4-.92-.59-1.43-.59-.52 0-1.04.2-1.43.59L10.3 9.45l-7.72 7.72c-.78.78-.78 2.05 0 2.83L4 21.41c.39.39.9.59 1.41.59.51 0 1.02-.2 1.41-.59l7.78-7.78 2.81-2.81c.8-.78.8-2.07 0-2.86zM5.41 20L4 18.59l7.72-7.72 1.47 1.35L5.41 20z\"/>\n",
              "  </svg>\n",
              "      </button>\n",
              "      \n",
              "  <style>\n",
              "    .colab-df-container {\n",
              "      display:flex;\n",
              "      flex-wrap:wrap;\n",
              "      gap: 12px;\n",
              "    }\n",
              "\n",
              "    .colab-df-convert {\n",
              "      background-color: #E8F0FE;\n",
              "      border: none;\n",
              "      border-radius: 50%;\n",
              "      cursor: pointer;\n",
              "      display: none;\n",
              "      fill: #1967D2;\n",
              "      height: 32px;\n",
              "      padding: 0 0 0 0;\n",
              "      width: 32px;\n",
              "    }\n",
              "\n",
              "    .colab-df-convert:hover {\n",
              "      background-color: #E2EBFA;\n",
              "      box-shadow: 0px 1px 2px rgba(60, 64, 67, 0.3), 0px 1px 3px 1px rgba(60, 64, 67, 0.15);\n",
              "      fill: #174EA6;\n",
              "    }\n",
              "\n",
              "    [theme=dark] .colab-df-convert {\n",
              "      background-color: #3B4455;\n",
              "      fill: #D2E3FC;\n",
              "    }\n",
              "\n",
              "    [theme=dark] .colab-df-convert:hover {\n",
              "      background-color: #434B5C;\n",
              "      box-shadow: 0px 1px 3px 1px rgba(0, 0, 0, 0.15);\n",
              "      filter: drop-shadow(0px 1px 2px rgba(0, 0, 0, 0.3));\n",
              "      fill: #FFFFFF;\n",
              "    }\n",
              "  </style>\n",
              "\n",
              "      <script>\n",
              "        const buttonEl =\n",
              "          document.querySelector('#df-d961c224-b90c-4036-8224-b296bdf1a3b7 button.colab-df-convert');\n",
              "        buttonEl.style.display =\n",
              "          google.colab.kernel.accessAllowed ? 'block' : 'none';\n",
              "\n",
              "        async function convertToInteractive(key) {\n",
              "          const element = document.querySelector('#df-d961c224-b90c-4036-8224-b296bdf1a3b7');\n",
              "          const dataTable =\n",
              "            await google.colab.kernel.invokeFunction('convertToInteractive',\n",
              "                                                     [key], {});\n",
              "          if (!dataTable) return;\n",
              "\n",
              "          const docLinkHtml = 'Like what you see? Visit the ' +\n",
              "            '<a target=\"_blank\" href=https://colab.research.google.com/notebooks/data_table.ipynb>data table notebook</a>'\n",
              "            + ' to learn more about interactive tables.';\n",
              "          element.innerHTML = '';\n",
              "          dataTable['output_type'] = 'display_data';\n",
              "          await google.colab.output.renderOutput(dataTable, element);\n",
              "          const docLink = document.createElement('div');\n",
              "          docLink.innerHTML = docLinkHtml;\n",
              "          element.appendChild(docLink);\n",
              "        }\n",
              "      </script>\n",
              "    </div>\n",
              "  </div>\n",
              "  "
            ]
          },
          "metadata": {},
          "execution_count": 19
        }
      ]
    },
    {
      "cell_type": "code",
      "source": [
        "df[\"Direction\"] = [1 if i>0 else 0 for i in df[\"Today\"]]"
      ],
      "metadata": {
        "id": "ZnoxQfiDhdbj"
      },
      "execution_count": null,
      "outputs": []
    },
    {
      "cell_type": "code",
      "source": [
        "df.head(5)"
      ],
      "metadata": {
        "colab": {
          "base_uri": "https://localhost:8080/",
          "height": 357
        },
        "id": "RXxe1Ax3h2gu",
        "outputId": "c4233884-1634-4a7d-a7e3-00f42526e210"
      },
      "execution_count": null,
      "outputs": [
        {
          "output_type": "execute_result",
          "data": {
            "text/plain": [
              "         Date     Today      Lag1      Lag2      Lag3      Lag4      Lag5  \\\n",
              "6  2001-01-11  1.031770  0.958639  0.381219 -0.191781 -2.624236 -1.055247   \n",
              "7  2001-01-12 -0.623287  1.031770  0.958639  0.381219 -0.191781 -2.624236   \n",
              "8  2001-01-16  0.614309 -0.623287  1.031770  0.958639  0.381219 -0.191781   \n",
              "9  2001-01-17  0.212561  0.614309 -0.623287  1.031770  0.958639  0.381219   \n",
              "10 2001-01-18  1.391532  0.212561  0.614309 -0.623287  1.031770  0.958639   \n",
              "\n",
              "    Volume  Direction  const  \n",
              "6   12.965          1      1  \n",
              "7   14.112          0      1  \n",
              "8   12.760          1      1  \n",
              "9   12.057          1      1  \n",
              "10  13.491          1      1  "
            ],
            "text/html": [
              "\n",
              "  <div id=\"df-006f7a3f-c789-4468-a048-900aef1c392d\">\n",
              "    <div class=\"colab-df-container\">\n",
              "      <div>\n",
              "<style scoped>\n",
              "    .dataframe tbody tr th:only-of-type {\n",
              "        vertical-align: middle;\n",
              "    }\n",
              "\n",
              "    .dataframe tbody tr th {\n",
              "        vertical-align: top;\n",
              "    }\n",
              "\n",
              "    .dataframe thead th {\n",
              "        text-align: right;\n",
              "    }\n",
              "</style>\n",
              "<table border=\"1\" class=\"dataframe\">\n",
              "  <thead>\n",
              "    <tr style=\"text-align: right;\">\n",
              "      <th></th>\n",
              "      <th>Date</th>\n",
              "      <th>Today</th>\n",
              "      <th>Lag1</th>\n",
              "      <th>Lag2</th>\n",
              "      <th>Lag3</th>\n",
              "      <th>Lag4</th>\n",
              "      <th>Lag5</th>\n",
              "      <th>Volume</th>\n",
              "      <th>Direction</th>\n",
              "      <th>const</th>\n",
              "    </tr>\n",
              "  </thead>\n",
              "  <tbody>\n",
              "    <tr>\n",
              "      <th>6</th>\n",
              "      <td>2001-01-11</td>\n",
              "      <td>1.031770</td>\n",
              "      <td>0.958639</td>\n",
              "      <td>0.381219</td>\n",
              "      <td>-0.191781</td>\n",
              "      <td>-2.624236</td>\n",
              "      <td>-1.055247</td>\n",
              "      <td>12.965</td>\n",
              "      <td>1</td>\n",
              "      <td>1</td>\n",
              "    </tr>\n",
              "    <tr>\n",
              "      <th>7</th>\n",
              "      <td>2001-01-12</td>\n",
              "      <td>-0.623287</td>\n",
              "      <td>1.031770</td>\n",
              "      <td>0.958639</td>\n",
              "      <td>0.381219</td>\n",
              "      <td>-0.191781</td>\n",
              "      <td>-2.624236</td>\n",
              "      <td>14.112</td>\n",
              "      <td>0</td>\n",
              "      <td>1</td>\n",
              "    </tr>\n",
              "    <tr>\n",
              "      <th>8</th>\n",
              "      <td>2001-01-16</td>\n",
              "      <td>0.614309</td>\n",
              "      <td>-0.623287</td>\n",
              "      <td>1.031770</td>\n",
              "      <td>0.958639</td>\n",
              "      <td>0.381219</td>\n",
              "      <td>-0.191781</td>\n",
              "      <td>12.760</td>\n",
              "      <td>1</td>\n",
              "      <td>1</td>\n",
              "    </tr>\n",
              "    <tr>\n",
              "      <th>9</th>\n",
              "      <td>2001-01-17</td>\n",
              "      <td>0.212561</td>\n",
              "      <td>0.614309</td>\n",
              "      <td>-0.623287</td>\n",
              "      <td>1.031770</td>\n",
              "      <td>0.958639</td>\n",
              "      <td>0.381219</td>\n",
              "      <td>12.057</td>\n",
              "      <td>1</td>\n",
              "      <td>1</td>\n",
              "    </tr>\n",
              "    <tr>\n",
              "      <th>10</th>\n",
              "      <td>2001-01-18</td>\n",
              "      <td>1.391532</td>\n",
              "      <td>0.212561</td>\n",
              "      <td>0.614309</td>\n",
              "      <td>-0.623287</td>\n",
              "      <td>1.031770</td>\n",
              "      <td>0.958639</td>\n",
              "      <td>13.491</td>\n",
              "      <td>1</td>\n",
              "      <td>1</td>\n",
              "    </tr>\n",
              "  </tbody>\n",
              "</table>\n",
              "</div>\n",
              "      <button class=\"colab-df-convert\" onclick=\"convertToInteractive('df-006f7a3f-c789-4468-a048-900aef1c392d')\"\n",
              "              title=\"Convert this dataframe to an interactive table.\"\n",
              "              style=\"display:none;\">\n",
              "        \n",
              "  <svg xmlns=\"http://www.w3.org/2000/svg\" height=\"24px\"viewBox=\"0 0 24 24\"\n",
              "       width=\"24px\">\n",
              "    <path d=\"M0 0h24v24H0V0z\" fill=\"none\"/>\n",
              "    <path d=\"M18.56 5.44l.94 2.06.94-2.06 2.06-.94-2.06-.94-.94-2.06-.94 2.06-2.06.94zm-11 1L8.5 8.5l.94-2.06 2.06-.94-2.06-.94L8.5 2.5l-.94 2.06-2.06.94zm10 10l.94 2.06.94-2.06 2.06-.94-2.06-.94-.94-2.06-.94 2.06-2.06.94z\"/><path d=\"M17.41 7.96l-1.37-1.37c-.4-.4-.92-.59-1.43-.59-.52 0-1.04.2-1.43.59L10.3 9.45l-7.72 7.72c-.78.78-.78 2.05 0 2.83L4 21.41c.39.39.9.59 1.41.59.51 0 1.02-.2 1.41-.59l7.78-7.78 2.81-2.81c.8-.78.8-2.07 0-2.86zM5.41 20L4 18.59l7.72-7.72 1.47 1.35L5.41 20z\"/>\n",
              "  </svg>\n",
              "      </button>\n",
              "      \n",
              "  <style>\n",
              "    .colab-df-container {\n",
              "      display:flex;\n",
              "      flex-wrap:wrap;\n",
              "      gap: 12px;\n",
              "    }\n",
              "\n",
              "    .colab-df-convert {\n",
              "      background-color: #E8F0FE;\n",
              "      border: none;\n",
              "      border-radius: 50%;\n",
              "      cursor: pointer;\n",
              "      display: none;\n",
              "      fill: #1967D2;\n",
              "      height: 32px;\n",
              "      padding: 0 0 0 0;\n",
              "      width: 32px;\n",
              "    }\n",
              "\n",
              "    .colab-df-convert:hover {\n",
              "      background-color: #E2EBFA;\n",
              "      box-shadow: 0px 1px 2px rgba(60, 64, 67, 0.3), 0px 1px 3px 1px rgba(60, 64, 67, 0.15);\n",
              "      fill: #174EA6;\n",
              "    }\n",
              "\n",
              "    [theme=dark] .colab-df-convert {\n",
              "      background-color: #3B4455;\n",
              "      fill: #D2E3FC;\n",
              "    }\n",
              "\n",
              "    [theme=dark] .colab-df-convert:hover {\n",
              "      background-color: #434B5C;\n",
              "      box-shadow: 0px 1px 3px 1px rgba(0, 0, 0, 0.15);\n",
              "      filter: drop-shadow(0px 1px 2px rgba(0, 0, 0, 0.3));\n",
              "      fill: #FFFFFF;\n",
              "    }\n",
              "  </style>\n",
              "\n",
              "      <script>\n",
              "        const buttonEl =\n",
              "          document.querySelector('#df-006f7a3f-c789-4468-a048-900aef1c392d button.colab-df-convert');\n",
              "        buttonEl.style.display =\n",
              "          google.colab.kernel.accessAllowed ? 'block' : 'none';\n",
              "\n",
              "        async function convertToInteractive(key) {\n",
              "          const element = document.querySelector('#df-006f7a3f-c789-4468-a048-900aef1c392d');\n",
              "          const dataTable =\n",
              "            await google.colab.kernel.invokeFunction('convertToInteractive',\n",
              "                                                     [key], {});\n",
              "          if (!dataTable) return;\n",
              "\n",
              "          const docLinkHtml = 'Like what you see? Visit the ' +\n",
              "            '<a target=\"_blank\" href=https://colab.research.google.com/notebooks/data_table.ipynb>data table notebook</a>'\n",
              "            + ' to learn more about interactive tables.';\n",
              "          element.innerHTML = '';\n",
              "          dataTable['output_type'] = 'display_data';\n",
              "          await google.colab.output.renderOutput(dataTable, element);\n",
              "          const docLink = document.createElement('div');\n",
              "          docLink.innerHTML = docLinkHtml;\n",
              "          element.appendChild(docLink);\n",
              "        }\n",
              "      </script>\n",
              "    </div>\n",
              "  </div>\n",
              "  "
            ]
          },
          "metadata": {},
          "execution_count": 32
        }
      ]
    },
    {
      "cell_type": "code",
      "source": [
        "df =sm.add_constant(df)"
      ],
      "metadata": {
        "colab": {
          "base_uri": "https://localhost:8080/"
        },
        "id": "c5L-QqJ-h6sO",
        "outputId": "1dd18873-5aaa-4dd6-de4b-99b10aa53b3c"
      },
      "execution_count": null,
      "outputs": [
        {
          "output_type": "stream",
          "name": "stderr",
          "text": [
            "/usr/local/lib/python3.7/dist-packages/statsmodels/tsa/tsatools.py:142: FutureWarning: In a future version of pandas all arguments of concat except for the argument 'objs' will be keyword-only\n",
            "  x = pd.concat(x[::order], 1)\n"
          ]
        }
      ]
    },
    {
      "cell_type": "code",
      "source": [
        "df[\"const\"] = 1"
      ],
      "metadata": {
        "id": "1r_eyGKIiK9j"
      },
      "execution_count": null,
      "outputs": []
    },
    {
      "cell_type": "code",
      "source": [
        "df"
      ],
      "metadata": {
        "colab": {
          "base_uri": "https://localhost:8080/",
          "height": 661
        },
        "id": "q-xNOndaiLWn",
        "outputId": "63202040-32f7-4968-ae1f-da47e7b63ddc"
      },
      "execution_count": null,
      "outputs": [
        {
          "output_type": "execute_result",
          "data": {
            "text/plain": [
              "           Date     Today      Lag1      Lag2      Lag3      Lag4      Lag5  \\\n",
              "6    2001-01-11  1.031770  0.958639  0.381219 -0.191781 -2.624236 -1.055247   \n",
              "7    2001-01-12 -0.623287  1.031770  0.958639  0.381219 -0.191781 -2.624236   \n",
              "8    2001-01-16  0.614309 -0.623287  1.031770  0.958639  0.381219 -0.191781   \n",
              "9    2001-01-17  0.212561  0.614309 -0.623287  1.031770  0.958639  0.381219   \n",
              "10   2001-01-18  1.391532  0.212561  0.614309 -0.623287  1.031770  0.958639   \n",
              "...         ...       ...       ...       ...       ...       ...       ...   \n",
              "5487 2022-10-25  1.626665  1.188198  2.372482 -0.795091 -0.667210  1.142757   \n",
              "5488 2022-10-26 -0.738772  1.626665  1.188198  2.372482 -0.795091 -0.667210   \n",
              "5489 2022-10-27 -0.608261 -0.738772  1.626665  1.188198  2.372482 -0.795091   \n",
              "5490 2022-10-28  2.462638 -0.608261 -0.738772  1.626665  1.188198  2.372482   \n",
              "5491 2022-10-31 -0.745440  2.462638 -0.608261 -0.738772  1.626665  1.188198   \n",
              "\n",
              "       Volume  Direction  const  \n",
              "6     12.9650          1      1  \n",
              "7     14.1120          0      1  \n",
              "8     12.7600          1      1  \n",
              "9     12.0570          1      1  \n",
              "10    13.4910          1      1  \n",
              "...       ...        ...    ...  \n",
              "5487  47.4793          1      1  \n",
              "5488  48.4312          0      1  \n",
              "5489  48.1731          0      1  \n",
              "5490  46.8732          1      1  \n",
              "5491  44.5941          0      1  \n",
              "\n",
              "[5486 rows x 10 columns]"
            ],
            "text/html": [
              "\n",
              "  <div id=\"df-f6d5232b-e329-4621-8a7f-2336b7437ef9\">\n",
              "    <div class=\"colab-df-container\">\n",
              "      <div>\n",
              "<style scoped>\n",
              "    .dataframe tbody tr th:only-of-type {\n",
              "        vertical-align: middle;\n",
              "    }\n",
              "\n",
              "    .dataframe tbody tr th {\n",
              "        vertical-align: top;\n",
              "    }\n",
              "\n",
              "    .dataframe thead th {\n",
              "        text-align: right;\n",
              "    }\n",
              "</style>\n",
              "<table border=\"1\" class=\"dataframe\">\n",
              "  <thead>\n",
              "    <tr style=\"text-align: right;\">\n",
              "      <th></th>\n",
              "      <th>Date</th>\n",
              "      <th>Today</th>\n",
              "      <th>Lag1</th>\n",
              "      <th>Lag2</th>\n",
              "      <th>Lag3</th>\n",
              "      <th>Lag4</th>\n",
              "      <th>Lag5</th>\n",
              "      <th>Volume</th>\n",
              "      <th>Direction</th>\n",
              "      <th>const</th>\n",
              "    </tr>\n",
              "  </thead>\n",
              "  <tbody>\n",
              "    <tr>\n",
              "      <th>6</th>\n",
              "      <td>2001-01-11</td>\n",
              "      <td>1.031770</td>\n",
              "      <td>0.958639</td>\n",
              "      <td>0.381219</td>\n",
              "      <td>-0.191781</td>\n",
              "      <td>-2.624236</td>\n",
              "      <td>-1.055247</td>\n",
              "      <td>12.9650</td>\n",
              "      <td>1</td>\n",
              "      <td>1</td>\n",
              "    </tr>\n",
              "    <tr>\n",
              "      <th>7</th>\n",
              "      <td>2001-01-12</td>\n",
              "      <td>-0.623287</td>\n",
              "      <td>1.031770</td>\n",
              "      <td>0.958639</td>\n",
              "      <td>0.381219</td>\n",
              "      <td>-0.191781</td>\n",
              "      <td>-2.624236</td>\n",
              "      <td>14.1120</td>\n",
              "      <td>0</td>\n",
              "      <td>1</td>\n",
              "    </tr>\n",
              "    <tr>\n",
              "      <th>8</th>\n",
              "      <td>2001-01-16</td>\n",
              "      <td>0.614309</td>\n",
              "      <td>-0.623287</td>\n",
              "      <td>1.031770</td>\n",
              "      <td>0.958639</td>\n",
              "      <td>0.381219</td>\n",
              "      <td>-0.191781</td>\n",
              "      <td>12.7600</td>\n",
              "      <td>1</td>\n",
              "      <td>1</td>\n",
              "    </tr>\n",
              "    <tr>\n",
              "      <th>9</th>\n",
              "      <td>2001-01-17</td>\n",
              "      <td>0.212561</td>\n",
              "      <td>0.614309</td>\n",
              "      <td>-0.623287</td>\n",
              "      <td>1.031770</td>\n",
              "      <td>0.958639</td>\n",
              "      <td>0.381219</td>\n",
              "      <td>12.0570</td>\n",
              "      <td>1</td>\n",
              "      <td>1</td>\n",
              "    </tr>\n",
              "    <tr>\n",
              "      <th>10</th>\n",
              "      <td>2001-01-18</td>\n",
              "      <td>1.391532</td>\n",
              "      <td>0.212561</td>\n",
              "      <td>0.614309</td>\n",
              "      <td>-0.623287</td>\n",
              "      <td>1.031770</td>\n",
              "      <td>0.958639</td>\n",
              "      <td>13.4910</td>\n",
              "      <td>1</td>\n",
              "      <td>1</td>\n",
              "    </tr>\n",
              "    <tr>\n",
              "      <th>...</th>\n",
              "      <td>...</td>\n",
              "      <td>...</td>\n",
              "      <td>...</td>\n",
              "      <td>...</td>\n",
              "      <td>...</td>\n",
              "      <td>...</td>\n",
              "      <td>...</td>\n",
              "      <td>...</td>\n",
              "      <td>...</td>\n",
              "      <td>...</td>\n",
              "    </tr>\n",
              "    <tr>\n",
              "      <th>5487</th>\n",
              "      <td>2022-10-25</td>\n",
              "      <td>1.626665</td>\n",
              "      <td>1.188198</td>\n",
              "      <td>2.372482</td>\n",
              "      <td>-0.795091</td>\n",
              "      <td>-0.667210</td>\n",
              "      <td>1.142757</td>\n",
              "      <td>47.4793</td>\n",
              "      <td>1</td>\n",
              "      <td>1</td>\n",
              "    </tr>\n",
              "    <tr>\n",
              "      <th>5488</th>\n",
              "      <td>2022-10-26</td>\n",
              "      <td>-0.738772</td>\n",
              "      <td>1.626665</td>\n",
              "      <td>1.188198</td>\n",
              "      <td>2.372482</td>\n",
              "      <td>-0.795091</td>\n",
              "      <td>-0.667210</td>\n",
              "      <td>48.4312</td>\n",
              "      <td>0</td>\n",
              "      <td>1</td>\n",
              "    </tr>\n",
              "    <tr>\n",
              "      <th>5489</th>\n",
              "      <td>2022-10-27</td>\n",
              "      <td>-0.608261</td>\n",
              "      <td>-0.738772</td>\n",
              "      <td>1.626665</td>\n",
              "      <td>1.188198</td>\n",
              "      <td>2.372482</td>\n",
              "      <td>-0.795091</td>\n",
              "      <td>48.1731</td>\n",
              "      <td>0</td>\n",
              "      <td>1</td>\n",
              "    </tr>\n",
              "    <tr>\n",
              "      <th>5490</th>\n",
              "      <td>2022-10-28</td>\n",
              "      <td>2.462638</td>\n",
              "      <td>-0.608261</td>\n",
              "      <td>-0.738772</td>\n",
              "      <td>1.626665</td>\n",
              "      <td>1.188198</td>\n",
              "      <td>2.372482</td>\n",
              "      <td>46.8732</td>\n",
              "      <td>1</td>\n",
              "      <td>1</td>\n",
              "    </tr>\n",
              "    <tr>\n",
              "      <th>5491</th>\n",
              "      <td>2022-10-31</td>\n",
              "      <td>-0.745440</td>\n",
              "      <td>2.462638</td>\n",
              "      <td>-0.608261</td>\n",
              "      <td>-0.738772</td>\n",
              "      <td>1.626665</td>\n",
              "      <td>1.188198</td>\n",
              "      <td>44.5941</td>\n",
              "      <td>0</td>\n",
              "      <td>1</td>\n",
              "    </tr>\n",
              "  </tbody>\n",
              "</table>\n",
              "<p>5486 rows × 10 columns</p>\n",
              "</div>\n",
              "      <button class=\"colab-df-convert\" onclick=\"convertToInteractive('df-f6d5232b-e329-4621-8a7f-2336b7437ef9')\"\n",
              "              title=\"Convert this dataframe to an interactive table.\"\n",
              "              style=\"display:none;\">\n",
              "        \n",
              "  <svg xmlns=\"http://www.w3.org/2000/svg\" height=\"24px\"viewBox=\"0 0 24 24\"\n",
              "       width=\"24px\">\n",
              "    <path d=\"M0 0h24v24H0V0z\" fill=\"none\"/>\n",
              "    <path d=\"M18.56 5.44l.94 2.06.94-2.06 2.06-.94-2.06-.94-.94-2.06-.94 2.06-2.06.94zm-11 1L8.5 8.5l.94-2.06 2.06-.94-2.06-.94L8.5 2.5l-.94 2.06-2.06.94zm10 10l.94 2.06.94-2.06 2.06-.94-2.06-.94-.94-2.06-.94 2.06-2.06.94z\"/><path d=\"M17.41 7.96l-1.37-1.37c-.4-.4-.92-.59-1.43-.59-.52 0-1.04.2-1.43.59L10.3 9.45l-7.72 7.72c-.78.78-.78 2.05 0 2.83L4 21.41c.39.39.9.59 1.41.59.51 0 1.02-.2 1.41-.59l7.78-7.78 2.81-2.81c.8-.78.8-2.07 0-2.86zM5.41 20L4 18.59l7.72-7.72 1.47 1.35L5.41 20z\"/>\n",
              "  </svg>\n",
              "      </button>\n",
              "      \n",
              "  <style>\n",
              "    .colab-df-container {\n",
              "      display:flex;\n",
              "      flex-wrap:wrap;\n",
              "      gap: 12px;\n",
              "    }\n",
              "\n",
              "    .colab-df-convert {\n",
              "      background-color: #E8F0FE;\n",
              "      border: none;\n",
              "      border-radius: 50%;\n",
              "      cursor: pointer;\n",
              "      display: none;\n",
              "      fill: #1967D2;\n",
              "      height: 32px;\n",
              "      padding: 0 0 0 0;\n",
              "      width: 32px;\n",
              "    }\n",
              "\n",
              "    .colab-df-convert:hover {\n",
              "      background-color: #E2EBFA;\n",
              "      box-shadow: 0px 1px 2px rgba(60, 64, 67, 0.3), 0px 1px 3px 1px rgba(60, 64, 67, 0.15);\n",
              "      fill: #174EA6;\n",
              "    }\n",
              "\n",
              "    [theme=dark] .colab-df-convert {\n",
              "      background-color: #3B4455;\n",
              "      fill: #D2E3FC;\n",
              "    }\n",
              "\n",
              "    [theme=dark] .colab-df-convert:hover {\n",
              "      background-color: #434B5C;\n",
              "      box-shadow: 0px 1px 3px 1px rgba(0, 0, 0, 0.15);\n",
              "      filter: drop-shadow(0px 1px 2px rgba(0, 0, 0, 0.3));\n",
              "      fill: #FFFFFF;\n",
              "    }\n",
              "  </style>\n",
              "\n",
              "      <script>\n",
              "        const buttonEl =\n",
              "          document.querySelector('#df-f6d5232b-e329-4621-8a7f-2336b7437ef9 button.colab-df-convert');\n",
              "        buttonEl.style.display =\n",
              "          google.colab.kernel.accessAllowed ? 'block' : 'none';\n",
              "\n",
              "        async function convertToInteractive(key) {\n",
              "          const element = document.querySelector('#df-f6d5232b-e329-4621-8a7f-2336b7437ef9');\n",
              "          const dataTable =\n",
              "            await google.colab.kernel.invokeFunction('convertToInteractive',\n",
              "                                                     [key], {});\n",
              "          if (!dataTable) return;\n",
              "\n",
              "          const docLinkHtml = 'Like what you see? Visit the ' +\n",
              "            '<a target=\"_blank\" href=https://colab.research.google.com/notebooks/data_table.ipynb>data table notebook</a>'\n",
              "            + ' to learn more about interactive tables.';\n",
              "          element.innerHTML = '';\n",
              "          dataTable['output_type'] = 'display_data';\n",
              "          await google.colab.output.renderOutput(dataTable, element);\n",
              "          const docLink = document.createElement('div');\n",
              "          docLink.innerHTML = docLinkHtml;\n",
              "          element.appendChild(docLink);\n",
              "        }\n",
              "      </script>\n",
              "    </div>\n",
              "  </div>\n",
              "  "
            ]
          },
          "metadata": {},
          "execution_count": 35
        }
      ]
    },
    {
      "cell_type": "code",
      "source": [
        "split_size =0.8"
      ],
      "metadata": {
        "id": "z-U594pwl2Hb"
      },
      "execution_count": null,
      "outputs": []
    },
    {
      "cell_type": "code",
      "source": [
        "X = df[[\"const\",\"Lag1\",\"Lag2\",\"Lag3\",\"Lag4\",\"Lag5\",\"Volume\"]]\n"
      ],
      "metadata": {
        "id": "wtbIqAP9iuSi"
      },
      "execution_count": null,
      "outputs": []
    },
    {
      "cell_type": "code",
      "source": [
        "y = df.Direction "
      ],
      "metadata": {
        "id": "Dp7P8TChjWlB"
      },
      "execution_count": null,
      "outputs": []
    },
    {
      "cell_type": "code",
      "source": [
        "#make train/test splits\n",
        "def make_train_test_splits(windows,labels,test_split=0.2):\n",
        "   split_size = int(len(windows)*(1-test_split)) #this seperate data in 80 20 \n",
        "   train_windows = windows[:split_size]\n",
        "   train_labels = labels[:split_size] \n",
        "   test_windows = windows[split_size:]\n",
        "   test_labels = labels[split_size:]\n",
        "\n",
        "   return train_windows,test_windows,train_labels,test_labels"
      ],
      "metadata": {
        "id": "lL49S2QYmTC6"
      },
      "execution_count": null,
      "outputs": []
    },
    {
      "cell_type": "code",
      "source": [
        "X_train,X_test,y_train,y_test = make_train_test_splits(X,y)\n",
        "len(X_train)"
      ],
      "metadata": {
        "colab": {
          "base_uri": "https://localhost:8080/"
        },
        "id": "AeSFFZrQmV0w",
        "outputId": "35aab6f0-4383-46d4-fe60-6386bee43e90"
      },
      "execution_count": null,
      "outputs": [
        {
          "output_type": "execute_result",
          "data": {
            "text/plain": [
              "4388"
            ]
          },
          "metadata": {},
          "execution_count": 55
        }
      ]
    },
    {
      "cell_type": "markdown",
      "source": [
        "#using Logistic reg"
      ],
      "metadata": {
        "id": "M7MwLnoCml51"
      }
    },
    {
      "cell_type": "code",
      "source": [
        "from sklearn.linear_model import LogisticRegression\n"
      ],
      "metadata": {
        "id": "oONGqVozmslU"
      },
      "execution_count": null,
      "outputs": []
    },
    {
      "cell_type": "code",
      "source": [
        "log_reg = LogisticRegression()"
      ],
      "metadata": {
        "id": "sqqBRHZgmsh0"
      },
      "execution_count": null,
      "outputs": []
    },
    {
      "cell_type": "code",
      "source": [
        "log_reg.fit(X_train,y_train)\n"
      ],
      "metadata": {
        "colab": {
          "base_uri": "https://localhost:8080/"
        },
        "id": "CyiV7IAcmsfY",
        "outputId": "b150ca97-0464-4e4e-8a98-d07940883866"
      },
      "execution_count": null,
      "outputs": [
        {
          "output_type": "execute_result",
          "data": {
            "text/plain": [
              "LogisticRegression()"
            ]
          },
          "metadata": {},
          "execution_count": 59
        }
      ]
    },
    {
      "cell_type": "code",
      "source": [
        "y_pred  = log_reg.predict(X_test)\n"
      ],
      "metadata": {
        "id": "47Zugd5wmr2W"
      },
      "execution_count": null,
      "outputs": []
    },
    {
      "cell_type": "code",
      "source": [
        "from sklearn.metrics import accuracy_score\n"
      ],
      "metadata": {
        "id": "KY-e9oWtmtTn"
      },
      "execution_count": null,
      "outputs": []
    },
    {
      "cell_type": "code",
      "source": [
        "accuracy_score(y_test,y_pred)\n"
      ],
      "metadata": {
        "id": "7CaG3zblnWNE",
        "outputId": "57e262dc-26d1-4a07-e90d-ec363550ac04",
        "colab": {
          "base_uri": "https://localhost:8080/"
        }
      },
      "execution_count": null,
      "outputs": [
        {
          "output_type": "execute_result",
          "data": {
            "text/plain": [
              "0.5537340619307832"
            ]
          },
          "metadata": {},
          "execution_count": 62
        }
      ]
    },
    {
      "cell_type": "markdown",
      "source": [
        "#using Stats model.api"
      ],
      "metadata": {
        "id": "AnFuz-D9mt3O"
      }
    },
    {
      "cell_type": "code",
      "source": [
        "model = sm.Logit(y,X)\n"
      ],
      "metadata": {
        "id": "fHh3hN0jjeaB"
      },
      "execution_count": null,
      "outputs": []
    },
    {
      "cell_type": "code",
      "source": [
        "result = model.fit()"
      ],
      "metadata": {
        "colab": {
          "base_uri": "https://localhost:8080/"
        },
        "id": "piW05nJCjjKH",
        "outputId": "d0ca28a7-57a2-4728-b50b-5c9ae3b4296d"
      },
      "execution_count": null,
      "outputs": [
        {
          "output_type": "stream",
          "name": "stdout",
          "text": [
            "Optimization terminated successfully.\n",
            "         Current function value: 0.688263\n",
            "         Iterations 4\n"
          ]
        }
      ]
    },
    {
      "cell_type": "code",
      "source": [
        "result.summary()"
      ],
      "metadata": {
        "colab": {
          "base_uri": "https://localhost:8080/",
          "height": 359
        },
        "id": "C2qx1pEvjluh",
        "outputId": "110ace58-2c70-4a9b-d23a-c4cb227d13d7"
      },
      "execution_count": null,
      "outputs": [
        {
          "output_type": "execute_result",
          "data": {
            "text/plain": [
              "<class 'statsmodels.iolib.summary.Summary'>\n",
              "\"\"\"\n",
              "                           Logit Regression Results                           \n",
              "==============================================================================\n",
              "Dep. Variable:              Direction   No. Observations:                 5486\n",
              "Model:                          Logit   Df Residuals:                     5479\n",
              "Method:                           MLE   Df Model:                            6\n",
              "Date:                Sat, 05 Nov 2022   Pseudo R-squ.:                0.002986\n",
              "Time:                        16:09:37   Log-Likelihood:                -3775.8\n",
              "converged:                       True   LL-Null:                       -3787.1\n",
              "Covariance Type:            nonrobust   LLR p-value:                 0.0009354\n",
              "==============================================================================\n",
              "                 coef    std err          z      P>|z|      [0.025      0.975]\n",
              "------------------------------------------------------------------------------\n",
              "const          0.1017      0.069      1.481      0.139      -0.033       0.236\n",
              "Lag1          -0.0975      0.023     -4.322      0.000      -0.142      -0.053\n",
              "Lag2           0.0075      0.022      0.334      0.739      -0.036       0.051\n",
              "Lag3           0.0100      0.022      0.446      0.656      -0.034       0.054\n",
              "Lag4          -0.0113      0.022     -0.505      0.613      -0.055       0.033\n",
              "Lag5          -0.0309      0.022     -1.386      0.166      -0.075       0.013\n",
              "Volume         0.0016      0.002      0.840      0.401      -0.002       0.005\n",
              "==============================================================================\n",
              "\"\"\""
            ],
            "text/html": [
              "<table class=\"simpletable\">\n",
              "<caption>Logit Regression Results</caption>\n",
              "<tr>\n",
              "  <th>Dep. Variable:</th>       <td>Direction</td>    <th>  No. Observations:  </th>  <td>  5486</td>  \n",
              "</tr>\n",
              "<tr>\n",
              "  <th>Model:</th>                 <td>Logit</td>      <th>  Df Residuals:      </th>  <td>  5479</td>  \n",
              "</tr>\n",
              "<tr>\n",
              "  <th>Method:</th>                 <td>MLE</td>       <th>  Df Model:          </th>  <td>     6</td>  \n",
              "</tr>\n",
              "<tr>\n",
              "  <th>Date:</th>            <td>Sat, 05 Nov 2022</td> <th>  Pseudo R-squ.:     </th> <td>0.002986</td> \n",
              "</tr>\n",
              "<tr>\n",
              "  <th>Time:</th>                <td>16:09:37</td>     <th>  Log-Likelihood:    </th> <td> -3775.8</td> \n",
              "</tr>\n",
              "<tr>\n",
              "  <th>converged:</th>             <td>True</td>       <th>  LL-Null:           </th> <td> -3787.1</td> \n",
              "</tr>\n",
              "<tr>\n",
              "  <th>Covariance Type:</th>     <td>nonrobust</td>    <th>  LLR p-value:       </th> <td>0.0009354</td>\n",
              "</tr>\n",
              "</table>\n",
              "<table class=\"simpletable\">\n",
              "<tr>\n",
              "     <td></td>       <th>coef</th>     <th>std err</th>      <th>z</th>      <th>P>|z|</th>  <th>[0.025</th>    <th>0.975]</th>  \n",
              "</tr>\n",
              "<tr>\n",
              "  <th>const</th>  <td>    0.1017</td> <td>    0.069</td> <td>    1.481</td> <td> 0.139</td> <td>   -0.033</td> <td>    0.236</td>\n",
              "</tr>\n",
              "<tr>\n",
              "  <th>Lag1</th>   <td>   -0.0975</td> <td>    0.023</td> <td>   -4.322</td> <td> 0.000</td> <td>   -0.142</td> <td>   -0.053</td>\n",
              "</tr>\n",
              "<tr>\n",
              "  <th>Lag2</th>   <td>    0.0075</td> <td>    0.022</td> <td>    0.334</td> <td> 0.739</td> <td>   -0.036</td> <td>    0.051</td>\n",
              "</tr>\n",
              "<tr>\n",
              "  <th>Lag3</th>   <td>    0.0100</td> <td>    0.022</td> <td>    0.446</td> <td> 0.656</td> <td>   -0.034</td> <td>    0.054</td>\n",
              "</tr>\n",
              "<tr>\n",
              "  <th>Lag4</th>   <td>   -0.0113</td> <td>    0.022</td> <td>   -0.505</td> <td> 0.613</td> <td>   -0.055</td> <td>    0.033</td>\n",
              "</tr>\n",
              "<tr>\n",
              "  <th>Lag5</th>   <td>   -0.0309</td> <td>    0.022</td> <td>   -1.386</td> <td> 0.166</td> <td>   -0.075</td> <td>    0.013</td>\n",
              "</tr>\n",
              "<tr>\n",
              "  <th>Volume</th> <td>    0.0016</td> <td>    0.002</td> <td>    0.840</td> <td> 0.401</td> <td>   -0.002</td> <td>    0.005</td>\n",
              "</tr>\n",
              "</table>"
            ]
          },
          "metadata": {},
          "execution_count": 41
        }
      ]
    },
    {
      "cell_type": "code",
      "source": [
        "prediction  = result.predict(X)\n",
        "prediction[:3]\n"
      ],
      "metadata": {
        "colab": {
          "base_uri": "https://localhost:8080/"
        },
        "id": "BcGUqk4rjnvz",
        "outputId": "72b01623-4aa8-4dd7-cc4e-7685b4c44cc6"
      },
      "execution_count": null,
      "outputs": [
        {
          "output_type": "execute_result",
          "data": {
            "text/plain": [
              "6    0.522957\n",
              "7    0.529374\n",
              "8    0.550228\n",
              "dtype: float64"
            ]
          },
          "metadata": {},
          "execution_count": 50
        }
      ]
    },
    {
      "cell_type": "code",
      "source": [
        "def con_matrix(act,pred):\n",
        "  predtrans = [\"Up\" if i>0.5 else \"Down\" for i in pred]\n",
        "  actuals = [\"Up\" if i>0 else \"Down\" for i in act]\n",
        "  confusion_matrix = pd.crosstab(pd.Series(actuals),\n",
        "                                 pd.Series(predtrans),\n",
        "                                 rownames = [\"Actual\"],\n",
        "                                 colnames = [\"Predicted\"])\n",
        "  return confusion_matrix\n",
        "  \n",
        "                                 \n",
        "                                 \n",
        "  "
      ],
      "metadata": {
        "id": "PpvY4uAxjy8x"
      },
      "execution_count": null,
      "outputs": []
    },
    {
      "cell_type": "code",
      "source": [
        "con_matrix(y,prediction)"
      ],
      "metadata": {
        "colab": {
          "base_uri": "https://localhost:8080/",
          "height": 143
        },
        "id": "i1xBg8fOkrYx",
        "outputId": "df8c986e-8491-4bf3-abe7-171e48a98a5e"
      },
      "execution_count": null,
      "outputs": [
        {
          "output_type": "execute_result",
          "data": {
            "text/plain": [
              "Predicted  Down    Up\n",
              "Actual               \n",
              "Down        214  2323\n",
              "Up          183  2766"
            ],
            "text/html": [
              "\n",
              "  <div id=\"df-69ff1645-7bca-4c77-8ebc-c22b853e3b34\">\n",
              "    <div class=\"colab-df-container\">\n",
              "      <div>\n",
              "<style scoped>\n",
              "    .dataframe tbody tr th:only-of-type {\n",
              "        vertical-align: middle;\n",
              "    }\n",
              "\n",
              "    .dataframe tbody tr th {\n",
              "        vertical-align: top;\n",
              "    }\n",
              "\n",
              "    .dataframe thead th {\n",
              "        text-align: right;\n",
              "    }\n",
              "</style>\n",
              "<table border=\"1\" class=\"dataframe\">\n",
              "  <thead>\n",
              "    <tr style=\"text-align: right;\">\n",
              "      <th>Predicted</th>\n",
              "      <th>Down</th>\n",
              "      <th>Up</th>\n",
              "    </tr>\n",
              "    <tr>\n",
              "      <th>Actual</th>\n",
              "      <th></th>\n",
              "      <th></th>\n",
              "    </tr>\n",
              "  </thead>\n",
              "  <tbody>\n",
              "    <tr>\n",
              "      <th>Down</th>\n",
              "      <td>214</td>\n",
              "      <td>2323</td>\n",
              "    </tr>\n",
              "    <tr>\n",
              "      <th>Up</th>\n",
              "      <td>183</td>\n",
              "      <td>2766</td>\n",
              "    </tr>\n",
              "  </tbody>\n",
              "</table>\n",
              "</div>\n",
              "      <button class=\"colab-df-convert\" onclick=\"convertToInteractive('df-69ff1645-7bca-4c77-8ebc-c22b853e3b34')\"\n",
              "              title=\"Convert this dataframe to an interactive table.\"\n",
              "              style=\"display:none;\">\n",
              "        \n",
              "  <svg xmlns=\"http://www.w3.org/2000/svg\" height=\"24px\"viewBox=\"0 0 24 24\"\n",
              "       width=\"24px\">\n",
              "    <path d=\"M0 0h24v24H0V0z\" fill=\"none\"/>\n",
              "    <path d=\"M18.56 5.44l.94 2.06.94-2.06 2.06-.94-2.06-.94-.94-2.06-.94 2.06-2.06.94zm-11 1L8.5 8.5l.94-2.06 2.06-.94-2.06-.94L8.5 2.5l-.94 2.06-2.06.94zm10 10l.94 2.06.94-2.06 2.06-.94-2.06-.94-.94-2.06-.94 2.06-2.06.94z\"/><path d=\"M17.41 7.96l-1.37-1.37c-.4-.4-.92-.59-1.43-.59-.52 0-1.04.2-1.43.59L10.3 9.45l-7.72 7.72c-.78.78-.78 2.05 0 2.83L4 21.41c.39.39.9.59 1.41.59.51 0 1.02-.2 1.41-.59l7.78-7.78 2.81-2.81c.8-.78.8-2.07 0-2.86zM5.41 20L4 18.59l7.72-7.72 1.47 1.35L5.41 20z\"/>\n",
              "  </svg>\n",
              "      </button>\n",
              "      \n",
              "  <style>\n",
              "    .colab-df-container {\n",
              "      display:flex;\n",
              "      flex-wrap:wrap;\n",
              "      gap: 12px;\n",
              "    }\n",
              "\n",
              "    .colab-df-convert {\n",
              "      background-color: #E8F0FE;\n",
              "      border: none;\n",
              "      border-radius: 50%;\n",
              "      cursor: pointer;\n",
              "      display: none;\n",
              "      fill: #1967D2;\n",
              "      height: 32px;\n",
              "      padding: 0 0 0 0;\n",
              "      width: 32px;\n",
              "    }\n",
              "\n",
              "    .colab-df-convert:hover {\n",
              "      background-color: #E2EBFA;\n",
              "      box-shadow: 0px 1px 2px rgba(60, 64, 67, 0.3), 0px 1px 3px 1px rgba(60, 64, 67, 0.15);\n",
              "      fill: #174EA6;\n",
              "    }\n",
              "\n",
              "    [theme=dark] .colab-df-convert {\n",
              "      background-color: #3B4455;\n",
              "      fill: #D2E3FC;\n",
              "    }\n",
              "\n",
              "    [theme=dark] .colab-df-convert:hover {\n",
              "      background-color: #434B5C;\n",
              "      box-shadow: 0px 1px 3px 1px rgba(0, 0, 0, 0.15);\n",
              "      filter: drop-shadow(0px 1px 2px rgba(0, 0, 0, 0.3));\n",
              "      fill: #FFFFFF;\n",
              "    }\n",
              "  </style>\n",
              "\n",
              "      <script>\n",
              "        const buttonEl =\n",
              "          document.querySelector('#df-69ff1645-7bca-4c77-8ebc-c22b853e3b34 button.colab-df-convert');\n",
              "        buttonEl.style.display =\n",
              "          google.colab.kernel.accessAllowed ? 'block' : 'none';\n",
              "\n",
              "        async function convertToInteractive(key) {\n",
              "          const element = document.querySelector('#df-69ff1645-7bca-4c77-8ebc-c22b853e3b34');\n",
              "          const dataTable =\n",
              "            await google.colab.kernel.invokeFunction('convertToInteractive',\n",
              "                                                     [key], {});\n",
              "          if (!dataTable) return;\n",
              "\n",
              "          const docLinkHtml = 'Like what you see? Visit the ' +\n",
              "            '<a target=\"_blank\" href=https://colab.research.google.com/notebooks/data_table.ipynb>data table notebook</a>'\n",
              "            + ' to learn more about interactive tables.';\n",
              "          element.innerHTML = '';\n",
              "          dataTable['output_type'] = 'display_data';\n",
              "          await google.colab.output.renderOutput(dataTable, element);\n",
              "          const docLink = document.createElement('div');\n",
              "          docLink.innerHTML = docLinkHtml;\n",
              "          element.appendChild(docLink);\n",
              "        }\n",
              "      </script>\n",
              "    </div>\n",
              "  </div>\n",
              "  "
            ]
          },
          "metadata": {},
          "execution_count": 46
        }
      ]
    },
    {
      "cell_type": "code",
      "source": [
        "len(df)"
      ],
      "metadata": {
        "colab": {
          "base_uri": "https://localhost:8080/"
        },
        "id": "O1IWzMZgkuyh",
        "outputId": "eb423a6b-dab9-4e8c-cbc7-53201ad000b2"
      },
      "execution_count": null,
      "outputs": [
        {
          "output_type": "execute_result",
          "data": {
            "text/plain": [
              "5486"
            ]
          },
          "metadata": {},
          "execution_count": 47
        }
      ]
    },
    {
      "cell_type": "code",
      "source": [
        "(214+2766)/5486"
      ],
      "metadata": {
        "colab": {
          "base_uri": "https://localhost:8080/"
        },
        "id": "53Uo-JjPlGsi",
        "outputId": "07c9ea95-7fca-4d96-a65b-e3be9ce2d721"
      },
      "execution_count": null,
      "outputs": [
        {
          "output_type": "execute_result",
          "data": {
            "text/plain": [
              "0.5432008749544295"
            ]
          },
          "metadata": {},
          "execution_count": 48
        }
      ]
    },
    {
      "cell_type": "code",
      "source": [
        "# from sklearn.metrics import accuracy_score\n",
        "# acc = accuracy_score(y,prediction)"
      ],
      "metadata": {
        "id": "HcJ0NlWnlU9f"
      },
      "execution_count": null,
      "outputs": []
    },
    {
      "cell_type": "code",
      "source": [],
      "metadata": {
        "id": "vUurgU5ylfU7"
      },
      "execution_count": null,
      "outputs": []
    }
  ]
}